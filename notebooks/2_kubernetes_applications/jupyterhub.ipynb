{
 "cells": [
  {
   "cell_type": "markdown",
   "metadata": {},
   "source": [
    "## Jupyterhub on Kubernetes\n",
    "\n",
    "This notebook can be used to launch a standard instance of Jupyterhub which includes a proxy server, and an instance of Jupyterhub. \n",
    "\n",
    "Notes on the Server: \n",
    "`/etc/jupyterhub/config` is where the configuration is for jupyterhub. \n",
    "\n"
   ]
  },
  {
   "cell_type": "code",
   "execution_count": null,
   "metadata": {},
   "outputs": [],
   "source": [
    "#This will import some required libraries.\n",
    "import sys \n",
    "import ruamel.yaml \n",
    "#This is your configuration file. \n",
    "general_yaml='../../config/config.yaml'\n",
    "with open(general_yaml, 'r') as yaml:\n",
    "    cf=ruamel.yaml.round_trip_load(yaml, preserve_quotes=True)\n",
    "\n",
    "jupyterhub_yaml='../../config/jupyterhub/config.yaml'\n",
    "with open(jupyterhub_yaml, 'r') as j_yaml:\n",
    "    cf_j=ruamel.yaml.round_trip_load(j_yaml, preserve_quotes=True)\n",
    "\n",
    "    #This will allow us to import some useful utilities. \n",
    "if cf['docker']:\n",
    "    cf_j['path']=cf['docker_path']\n",
    "else:\n",
    "    cf_j['path']=cf['local_path']\n",
    "\n",
    "sys.path.append(cf_j['path']+\"/lib/kuberutils\")   \n",
    "import importlib\n",
    "import kuberutils as ku\n",
    "importlib.reload(ku)\n",
    "#This will load common commands for your cluster\n",
    "cf_j=ku.jupyterhub_commands(cf_j)\n",
    "print(ruamel.yaml.dump(cf_j, sys.stdout, Dumper=ruamel.yaml.RoundTripDumper))\n",
    "\n",
    "#helm install jupyterhub/jupyterhub \\\n",
    "#    --version=v0.4 \\\n",
    "#    --name=<YOUR-RELEASE-NAME> \\\n",
    "#    --namespace=<YOUR-NAMESPACE> \\\n",
    "#    -f config.yaml"
   ]
  },
  {
   "cell_type": "code",
   "execution_count": null,
   "metadata": {
    "collapsed": true
   },
   "outputs": [],
   "source": [
    "#This makes a specific directory for configuration\n",
    "if cf_j['rebuild_config']:\n",
    "    ku.bash_command('rm -rf '+cf_j['jupyterhub_instance'])\n",
    "    ku.bash_command('mkdir '+cf_j['jupyterhub_instance'])\n",
    "    #Random variable that will be added to the config file. \n",
    "    ku.bash_command(\"openssl rand -hex 32 > \"+ cf_j['jupyterhub_instance']+\"/cookie_secret.txt\")\n",
    "    #Random variable that will be added to the config file.\n",
    "    ku.bash_command(\"openssl rand -hex 32 > \"+ cf_j['jupyterhub_instance']+\"/secret_token.txt\")\n",
    "    #download reference config\n",
    "    ku.bash_command(\"wget -P \"+ cf_j['jupyterhub_instance']+\" \"+cf_j['jupyterhub_config_init'])\n",
    "    ku.init_jupyterhub_config(cf_j)"
   ]
  },
  {
   "cell_type": "code",
   "execution_count": null,
   "metadata": {},
   "outputs": [],
   "source": [
    "print(ku.bash_command('repo_jupyterhub',cf_j))"
   ]
  },
  {
   "cell_type": "code",
   "execution_count": null,
   "metadata": {},
   "outputs": [],
   "source": [
    "#This will install the jupyterhub instance.\n",
    "print(ku.bash_command('install_jupyterhub',cf_j))"
   ]
  },
  {
   "cell_type": "code",
   "execution_count": null,
   "metadata": {},
   "outputs": [],
   "source": [
    "#This will check on the status of Jupyterhub.\n",
    "print(ku.bash_command('describe_jupyterhub',cf_j))\n",
    "\n"
   ]
  },
  {
   "cell_type": "code",
   "execution_count": null,
   "metadata": {},
   "outputs": [],
   "source": [
    "cf_j=ku.get_jupyterhub_ip(cf_j)"
   ]
  },
  {
   "cell_type": "code",
   "execution_count": null,
   "metadata": {
    "collapsed": true
   },
   "outputs": [],
   "source": []
  },
  {
   "cell_type": "code",
   "execution_count": null,
   "metadata": {},
   "outputs": [],
   "source": [
    "!kubectl --namespace=dojo get svc proxy-public"
   ]
  },
  {
   "cell_type": "markdown",
   "metadata": {},
   "source": [
    "## Update Authorization\n",
    "When just starting out, the default configuration launches with no password.  While there is still a username and login screen, \n"
   ]
  },
  {
   "cell_type": "code",
   "execution_count": null,
   "metadata": {
    "collapsed": true
   },
   "outputs": [],
   "source": [
    "#This is how we set the authororization\n",
    "#ku.update_config('auth','github_auth', cf_j)\n",
    "#ku.update_config('auth','google_auth', cf_j)\n",
    "ku.update_config('auth','dummy_auth', cf_j)\n"
   ]
  },
  {
   "cell_type": "code",
   "execution_count": null,
   "metadata": {
    "collapsed": true
   },
   "outputs": [],
   "source": [
    "ku.update_config('admin','admin', cf_j)"
   ]
  },
  {
   "cell_type": "markdown",
   "metadata": {},
   "source": [
    "### Update the Singleuser Container\n",
    "This can allow you to utilize a different container. \n"
   ]
  },
  {
   "cell_type": "code",
   "execution_count": null,
   "metadata": {
    "collapsed": true
   },
   "outputs": [],
   "source": [
    "ku.update_config('singleuser','singleuser', cf_j)"
   ]
  },
  {
   "cell_type": "code",
   "execution_count": null,
   "metadata": {},
   "outputs": [],
   "source": [
    "#Upgrading Jupyterhub. \n",
    "print(ku.bash_command('upgrade_jupyterhub',cf_j))"
   ]
  },
  {
   "cell_type": "code",
   "execution_count": null,
   "metadata": {},
   "outputs": [],
   "source": [
    "!helm upgrade dojo jupyterhub/jupyterhub  -f /Users/jasonkuruzovich/githubdesktop/admin-tools/config/jupyterhub/dojo/config.yaml"
   ]
  },
  {
   "cell_type": "code",
   "execution_count": null,
   "metadata": {},
   "outputs": [],
   "source": [
    "cf_k['get_logs']=\"kubectl --namespace=\"+cf_k['namespace']+\" logs hub-deployment-2149519926-6h09q \"\n",
    "cf_k['get_logs']"
   ]
  },
  {
   "cell_type": "code",
   "execution_count": null,
   "metadata": {
    "collapsed": true
   },
   "outputs": [],
   "source": [
    "!kubectl --namespace=jupyterhub-dojo logs hub-deployment-3135836638-w63sx"
   ]
  },
  {
   "cell_type": "code",
   "execution_count": null,
   "metadata": {
    "collapsed": true
   },
   "outputs": [],
   "source": [
    "!kubectl --namespace=jupyterhub-dojo logs hub-deployment-4054782028-0187m"
   ]
  },
  {
   "cell_type": "markdown",
   "metadata": {},
   "source": [
    "Adding SSL Support via Let's Encrypt\n",
    "helm repo update \n",
    "helm install --name=letsencrypt --namespace=kube-system stable/kube-lego \\\n",
    "             --set config.LEGO_EMAIL=<your-email> \\\n",
    "             --set config.LEGO_URL=https://acme-v01.api.letsencrypt.org/directory"
   ]
  },
  {
   "cell_type": "markdown",
   "metadata": {},
   "source": [
    "## Cleanup the Installation\n",
    "This will cleanup the installation, deleting the instance of Jupyterhub."
   ]
  },
  {
   "cell_type": "code",
   "execution_count": null,
   "metadata": {},
   "outputs": [],
   "source": [
    "#Delete Jupyterhub with Helm.\n",
    "print(ku.bash_command('delete_jupyterhub',cf_j))"
   ]
  },
  {
   "cell_type": "code",
   "execution_count": null,
   "metadata": {},
   "outputs": [],
   "source": [
    "#Delete Jupyterhub with Helm.\n",
    "print(ku.bash_command('delete_namespace',cf_j))"
   ]
  },
  {
   "cell_type": "code",
   "execution_count": null,
   "metadata": {
    "collapsed": true
   },
   "outputs": [],
   "source": []
  }
 ],
 "metadata": {
  "anaconda-cloud": {},
  "kernelspec": {
   "display_name": "Python [conda root]",
   "language": "python",
   "name": "conda-root-py"
  },
  "language_info": {
   "codemirror_mode": {
    "name": "ipython",
    "version": 3
   },
   "file_extension": ".py",
   "mimetype": "text/x-python",
   "name": "python",
   "nbconvert_exporter": "python",
   "pygments_lexer": "ipython3",
   "version": "3.6.2"
  }
 },
 "nbformat": 4,
 "nbformat_minor": 2
}
