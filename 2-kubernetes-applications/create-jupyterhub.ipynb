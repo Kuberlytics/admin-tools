{
 "cells": [
  {
   "cell_type": "markdown",
   "metadata": {},
   "source": [
    "## Jupyterhub on Kubernetes\n",
    "\n",
    "This notebook can be used to launch a standard instance of Jupyterhub which includes a proxy server, and an instance of Jupyterhub. \n",
    "\n",
    "Notes on the Server: \n",
    "`/etc/jupyterhub/config` is where the configuration is for jupyterhub. \n",
    "\n"
   ]
  },
  {
   "cell_type": "code",
   "execution_count": 3,
   "metadata": {
    "collapsed": true
   },
   "outputs": [],
   "source": [
    "cf = dict()\n",
    "cf['cloud_provider']='azure'      #azure of google\n",
    "cf['project_name']='kuberlytics'  #Must be globally unique.\n",
    "cf['restore_config']=False   #Only True for existing or previous cluster   \n",
    "cf['cluster_name']='kuberlytics'         #Only use if restore_config==True\n",
    "cf['config_file']='config/config.yaml'  #The configuration will be overwritten if retreived.\n",
    "cf['path']='/home/jovyan/launch/'  #Path to admintools repository\n",
    "cf['ssh_dir']='/home/jovyan/.ssh/'      #ssh directory"
   ]
  },
  {
   "cell_type": "code",
   "execution_count": 4,
   "metadata": {},
   "outputs": [],
   "source": [
    "import sys \n",
    "import importlib\n",
    "import ruamel.yaml\n",
    "sys.path.append(cf['path']+\"lib/kuberutils\") #Adds a local library path.\n",
    "import kuberutils as ku   #This imports some utilities.\n",
    "importlib.reload(ku)      #This just reloads the utilities.\n",
    "cf=ku.initialize(cf)  #This initializes a configuration object."
   ]
  },
  {
   "cell_type": "markdown",
   "metadata": {},
   "source": [
    "### Print Configuration\n",
    "Optionally you can print the configuration and common commands for your desired cluster. You can use this as a reference and copy and paste into the terminal."
   ]
  },
  {
   "cell_type": "code",
   "execution_count": 5,
   "metadata": {},
   "outputs": [
    {
     "name": "stdout",
     "output_type": "stream",
     "text": [
      "#Where are you running notebooks? This is used for path.\n",
      "project_name: kuberlytics   #must be globably unique project\n",
      "cloud_provider: azure   #google or azure\n",
      "cluster_name: kuberlytics\n",
      "restore_config: false\n",
      "path: /home/jovyan/launch/\n",
      "config_file: config/config.yaml\n",
      "ssh_dir: /home/jovyan/.ssh/\n",
      "\n",
      "#Start of Google Specific Configuration\n",
      "g_project: kuberlytics             #Google project name\n",
      "g_cluster_name: kuberlytics        #Name of your Google Cluster\n",
      "g_region: us-east1                 #Selection from gcloud compute regions list.\n",
      "g_zone: us-east1-b                  #Selection from gcloud compute regions list.\n",
      "g_machine_type: n1-highmem-4        #Type of Server\n",
      "g_account: you@mail.com    #Email Associated with the account.\n",
      "g_authorization_file: auth.json     #Service account authorization file.\n",
      "g_service_account_name: kuberlytics  #Service account name.\n",
      "g_fixedip_namespace: jupyterhub-kuberlytics\n",
      "g_num_nodes: 1                      #The default number of nodes (servers)\n",
      "g_num_nodes_class: 3\n",
      "g_max_nodes: 4\n",
      "#Start of Azure Configuration\n",
      "a_service_type: acs                 #aks is the next generation only available in westus2. acs is the more widely available service.\n",
      "a_resource_group: kuberlytics     #Resource groups are used to separate projects.\n",
      "a_cluster_name: kuberlytics        #Name your cluster whatever you like.\n",
      "a_location: eastus2                 #Selection from `az account list-locations`.\n",
      "a_dns_prefix: kuberlytics         #Selection from gcloud compute regions list.\n",
      "a_machine_type: Standard_D3_v2        #Type of Server https://docs.microsoft.com/en-us/azure/cloud-services/cloud-services-sizes-specs\n",
      "a_num_nodes: 1                      #The default number of nodes (servers)\n",
      "a_num_nodes_class: 3\n",
      "a_max_nodes: 4\n",
      "a_storage_account: pach          #For use with Pachyderm\n",
      "a_container_name: pach           #For use with Pachyderm\n",
      "a_storage_name: pach2-disk.vhd   #For use with Pachyderm\n",
      "a_storage_size: 1                #For use with Pachyderm Storage account size in GB.\n",
      "#Start of Azure Configuration\n",
      "jup_rebuild_config: false\n",
      "jup_url: sample.kuberlytics.com\n",
      "jup_ssl: false\n",
      "jup_email: you@yourdomain.com    #This is used for letsencrypt\n",
      "jup_namespace: kuberlytics      #Generally the namespace and releasename should be the same.\n",
      "jup_releasename: kuberlytics\n",
      "jup_fixed_ip:               #Set as reserved IP address.\n",
      "jup_set_fixed_ip: false\n",
      "jup_helm_repo: https://jupyterhub.github.io/helm-chart/\n",
      "jup_version: v0.5.0-e154ab7\n",
      "jup_config_init: https://raw.githubusercontent.com/jupyterhub/helm-chart/master/jupyterhub/values.yaml\n",
      "jup_github_auth:\n",
      "  type: github\n",
      "  github:\n",
      "    clientId: \"********************\"\n",
      "    clientSecret: \"***************************\"\n",
      "    callbackUrl: \"http://******************/hub/oauth_callback\"\n",
      "jup_google_auth:\n",
      "  type: google\n",
      "  google:\n",
      "    clientId: \"******************.apps.googleusercontent.com\"\n",
      "    clientSecret: \"********************\"\n",
      "    callbackUrl: \"http://******************/hub/oauth_callback\"\n",
      "    hostedDomain: \"*****************.edu\" #Your University URL\n",
      "    loginService: \"***************\"   #Your University name\n",
      "jup_dummy_auth:\n",
      "  type: dummy\n",
      "  dummy:\n",
      "    password: \"kubelaunch17\"\n",
      "jup_admin:\n",
      "  access: true\n",
      "  users: ['jkuruzovich']\n",
      "jup_singleuser:\n",
      "  image:\n",
      "    name: kuberlytics/launch\n",
      "    tag: latest\n",
      "jup_prePuller:\n",
      "  enabled: false\n",
      "resource_group: kuberlytics\n",
      "web_login: az login\n",
      "login: echo 'Service account login not yet available for Azure'\n",
      "create_project: az group create --name=kuberlytics --location=eastus2\n",
      "set_project: echo 'No need to set project in Azure.'\n",
      "set_zone: echo 'No need to set project in Azure.'\n",
      "delete_project: az group delete --name=kuberlytics --yes --no-wait\n",
      "list-locations: az account list-locations\n",
      "autoscale: echo 'Autoscaling currently not possible.'\n",
      "create_cluster: az acs create --orchestrator-type=kubernetes --resource-group=kuberlytics\n",
      "  --name=kuberlytics --dns-prefix=kuberlytics --agent-count=1 --agent-vm-size=Standard_D3_v2\n",
      "  --generate-ssh-keys --no-wait\n",
      "describe_cluster: az acs list  --resource-group=kuberlytics\n",
      "delete_cluster: az acs delete  --resource-group=kuberlytics --name=kuberlytics --no-wait\n",
      "get_credentials: az acs kubernetes get-credentials --resource-group=kuberlytics --name=kuberlytics\n",
      "  --ssh-key-file=~/.ssh/id_rsa_kuberlytics\n",
      "normal_size_cluster: az acs scale --resource-group=kuberlytics --name=kuberlytics\n",
      "  --new-agent-count 1\n",
      "class_size_cluster: az acs scale --resource-group=kuberlytics --name=kuberlytics --new-agent-count\n",
      "  3\n",
      "install_helm: helm init --client-only\n",
      "create_storage: az storage account create --resource-group=kuberlytics --location=eastus2\n",
      "  --sku=Standard_LRS  --name=pach --kind=Storage\n",
      "get_storage_key: az storage account keys list --account-name=pach --resource-group=kuberlytics\n",
      "  --output=json | jq .[0].value -r\n",
      "create_keyvault: az keyvault create --name=kuberlytics --resource-group=kuberlytics\n",
      "  --location=eastus2 --enabled-for-template-deployment true\n",
      "backup_private_key: az keyvault secret set --vault-name=kuberlytics --name=id-rsa-kuberlytics\n",
      "  --file=~/.ssh/id_rsa_kuberlytics\n",
      "backup_public_key: az keyvault secret set --vault-name=kuberlytics --name=id-rsakuberlytics-pub\n",
      "  --file=~/.ssh/id_rsa_kuberlytics.pub\n",
      "get_private_key: az keyvault secret show --vault-name=kuberlytics --name=id-rsa-kuberlytics\n",
      "get_public_key: az keyvault secret show --vault-name=kuberlytics --name=id-rsakuberlytics-pub\n",
      "jup_instance: /home/jovyan/launch/config/jupyterhub/kuberlytics\n",
      "jup_config: /home/jovyan/launch/config/jupyterhub/kuberlytics/config.yaml\n",
      "jup_base: /home/jovyan/launch/config/jupyterhub/kuberlytics/values.yaml\n",
      "jup_install_ssl: helm install --name=letsencrypt --namespace=kube-system stable/kube-lego\n",
      "  --set config.LEGO_EMAIL=you@yourdomain.com --set config.LEGO_URL=https://acme-v01.api.letsencrypt.org/directory\n",
      "jup_repo: helm repo add jupyterhub https://jupyterhub.github.io/helm-chart/ && helm\n",
      "  repo update\n",
      "jup_install: helm install jupyterhub/jupyterhub --version=v0.5.0-e154ab7 --name=kuberlytics\n",
      "  --namespace=kuberlytics -f /home/jovyan/launch/config/jupyterhub/kuberlytics/config.yaml\n",
      "jup_upgrade: helm upgrade kuberlytics jupyterhub/jupyterhub --version=v0.5.0-e154ab7\n",
      "  -f /home/jovyan/launch/config/jupyterhub/kuberlytics/config.yaml\n",
      "jup_describe: kubectl --namespace=kuberlytics get pod\n",
      "jup_get_ip: kubectl --namespace=kuberlytics get svc proxy-public\n",
      "jup_delete_instance: helm delete kuberlytics --purge\n",
      "jup_delete_namespace: kubectl delete namespace kuberlytics\n",
      "jup_callback_url: http://sample.kuberlytics.com/hub/oauth_callback\n",
      "jup_get_logs: kubectl --namespace=kuberlytics logs <insert_podname>\n",
      "which_cluster: kubectl config current-context\n",
      "clone_pachyderm: git clone https://github.com/pachyderm/pachyderm /home/jovyan/work/pachyderm\n",
      "None\n"
     ]
    }
   ],
   "source": [
    "#This will print common commands for your clustl\n",
    "print(ruamel.yaml.dump(cf, sys.stdout, Dumper=ruamel.yaml.RoundTripDumper))"
   ]
  },
  {
   "cell_type": "markdown",
   "metadata": {},
   "source": [
    "### Set Jupyterhub Config\n",
    "This will setup a basic configuration file for installing Jupyterhub. "
   ]
  },
  {
   "cell_type": "code",
   "execution_count": null,
   "metadata": {},
   "outputs": [],
   "source": [
    "cf=ku.set_jupyterhub_config(cf)"
   ]
  },
  {
   "cell_type": "markdown",
   "metadata": {},
   "source": [
    "## Download Helm Repo"
   ]
  },
  {
   "cell_type": "code",
   "execution_count": null,
   "metadata": {},
   "outputs": [],
   "source": [
    "#Add the jupyterhub repo.\n",
    "print(ku.bash_command('jup_repo',cf))"
   ]
  },
  {
   "cell_type": "code",
   "execution_count": null,
   "metadata": {},
   "outputs": [],
   "source": [
    "#This will install the jupyterhub instance.\n",
    "print(ku.bash_command('jup_install',cf))"
   ]
  },
  {
   "cell_type": "code",
   "execution_count": 10,
   "metadata": {},
   "outputs": [
    {
     "name": "stdout",
     "output_type": "stream",
     "text": [
      "Executing jup_describe:\n",
      " kubectl --namespace=kuberlytics get pod\n",
      "NAME                             READY     STATUS    RESTARTS   AGE\n",
      "hub-deployment-454936357-3r3kr   1/1       Running   0          34s\n",
      "proxy-3278366498-h9mn7           2/2       Running   0          20m\n",
      "\n"
     ]
    }
   ],
   "source": [
    "#This will check on the status of Jupyterhub.\n",
    "print(ku.bash_command('jup_describe', cf))"
   ]
  },
  {
   "cell_type": "code",
   "execution_count": null,
   "metadata": {},
   "outputs": [],
   "source": [
    "#Get the ip/url. \n",
    "#cf=ku.get_jupyterhub_ip(cf)\n",
    "ku.get_jupyterhub_ip(cf)"
   ]
  },
  {
   "cell_type": "markdown",
   "metadata": {},
   "source": [
    "## Update Authorization\n",
    "When just starting out, the default configuration launches with no password.  While there is still a username and login screen, \n"
   ]
  },
  {
   "cell_type": "code",
   "execution_count": 6,
   "metadata": {
    "collapsed": true
   },
   "outputs": [],
   "source": [
    "#This is how we set the authororization\n",
    "#ku.update_config('auth','jup_github_auth', cf)\n",
    "#ku.update_config('auth','jup_google_auth', cf)\n",
    "ku.update_config('auth','jup_dummy_auth', cf)\n"
   ]
  },
  {
   "cell_type": "code",
   "execution_count": 7,
   "metadata": {
    "collapsed": true
   },
   "outputs": [],
   "source": [
    "#Add Administrators\n",
    "ku.update_config('admin','jup_admin', cf)"
   ]
  },
  {
   "cell_type": "markdown",
   "metadata": {},
   "source": [
    "### Update the Singleuser Container\n",
    "This can allow you to utilize a different container. \n"
   ]
  },
  {
   "cell_type": "code",
   "execution_count": 8,
   "metadata": {
    "collapsed": true
   },
   "outputs": [],
   "source": [
    "ku.update_config('singleuser','jup_singleuser', cf)"
   ]
  },
  {
   "cell_type": "code",
   "execution_count": 9,
   "metadata": {},
   "outputs": [
    {
     "name": "stdout",
     "output_type": "stream",
     "text": [
      "Executing jup_upgrade:\n",
      " helm upgrade kuberlytics jupyterhub/jupyterhub --version=v0.5.0-e154ab7 -f /home/jovyan/launch/config/jupyterhub/kuberlytics/config.yaml\n",
      "Release \"kuberlytics\" has been upgraded. Happy Helming!\n",
      "LAST DEPLOYED: Fri Nov 17 13:52:57 2017\n",
      "NAMESPACE: kuberlytics\n",
      "STATUS: DEPLOYED\n",
      "\n",
      "RESOURCES:\n",
      "==> v1/ConfigMap\n",
      "NAME        DATA  AGE\n",
      "hub-config  21    20m\n",
      "\n",
      "==> v1/PersistentVolumeClaim\n",
      "NAME        STATUS  VOLUME                                    CAPACITY  ACCESSMODES  STORAGECLASS  AGE\n",
      "hub-db-dir  Bound   pvc-e54500ba-cb9b-11e7-b7e7-000d3a002e1a  1Gi       RWO          default       20m\n",
      "\n",
      "==> v1/Service\n",
      "NAME          CLUSTER-IP    EXTERNAL-IP    PORT(S)                     AGE\n",
      "hub           10.0.151.72   <none>         8081/TCP                    20m\n",
      "proxy-public  10.0.252.113  13.68.116.181  80:32126/TCP,443:30145/TCP  20m\n",
      "proxy-api     10.0.194.195  <none>         8001/TCP                    20m\n",
      "proxy-http    10.0.176.193  <none>         8000/TCP                    20m\n",
      "\n",
      "==> v1beta1/Deployment\n",
      "NAME            DESIRED  CURRENT  UP-TO-DATE  AVAILABLE  AGE\n",
      "hub-deployment  1        1        1           1          20m\n",
      "proxy           1        1        1           1          20m\n",
      "\n",
      "==> v1/Secret\n",
      "NAME        TYPE    DATA  AGE\n",
      "hub-secret  Opaque  2     20m\n",
      "\n",
      "\n",
      "NOTES:\n",
      "Thank you for installing JupyterHub!\n",
      "\n",
      "Your release is named kuberlytics and installed into the namespace kuberlytics.\n",
      "\n",
      "You can find if the hub and proxy is ready by doing:\n",
      "\n",
      " kubectl --namespace=kuberlytics get pod\n",
      "\n",
      "and watching for both those pods to be in status 'Ready'.\n",
      "\n",
      "You can find the public IP of the JupyterHub by doing:\n",
      "\n",
      " kubectl --namespace=kuberlytics get svc proxy-public\n",
      "\n",
      "It might take a few minutes for it to appear!\n",
      "\n",
      "Note that this is still an alpha release! If you have questions, feel free to\n",
      "  1. Come chat with us at https://gitter.im/jupyterhub/jupyterhub\n",
      "  2. File issues at https://github.com/jupyterhub/zero-to-jupyterhub-k8s/issues\n",
      "\n",
      "\n"
     ]
    }
   ],
   "source": [
    "#Upgrading Jupyterhub \n",
    "print(ku.bash_command('jup_upgrade',cf))"
   ]
  },
  {
   "cell_type": "markdown",
   "metadata": {},
   "source": [
    "### Backup Jupyterhub file. "
   ]
  },
  {
   "cell_type": "code",
   "execution_count": null,
   "metadata": {
    "collapsed": true
   },
   "outputs": [],
   "source": [
    "ku.backup_file_az(cf['cluster_name']+\"jupyter-config-file\", cf['path']+\"/config/cf['config_file'], cf)"
   ]
  },
  {
   "cell_type": "markdown",
   "metadata": {},
   "source": [
    "Adding SSL Support via Let's Encrypt\n",
    "helm repo update \n",
    "helm install --name=letsencrypt --namespace=kube-system stable/kube-lego \\\n",
    "             --set config.LEGO_EMAIL=<your-email> \\\n",
    "             --set config.LEGO_URL=https://acme-v01.api.letsencrypt.org/directory"
   ]
  },
  {
   "cell_type": "markdown",
   "metadata": {},
   "source": [
    "## Cleanup the Installation\n",
    "This will cleanup the installation, deleting the instance of Jupyterhub."
   ]
  },
  {
   "cell_type": "code",
   "execution_count": null,
   "metadata": {
    "collapsed": true
   },
   "outputs": [],
   "source": [
    "#Delete Jupyterhub with Helm.\n",
    "print(ku.bash_command('jup_delete_instance',cf))"
   ]
  },
  {
   "cell_type": "code",
   "execution_count": null,
   "metadata": {
    "collapsed": true
   },
   "outputs": [],
   "source": [
    "#Delete Jupyterhub with Helm.\n",
    "print(ku.bash_command('jup_delete_namespace',cf))"
   ]
  },
  {
   "cell_type": "markdown",
   "metadata": {},
   "source": [
    "### Backup Config,\n",
    "If you make any changes to the main config file, this backs it up. "
   ]
  },
  {
   "cell_type": "code",
   "execution_count": null,
   "metadata": {},
   "outputs": [],
   "source": [
    "print(ku.backup_kube(cf))"
   ]
  },
  {
   "cell_type": "code",
   "execution_count": null,
   "metadata": {
    "collapsed": true
   },
   "outputs": [],
   "source": []
  }
 ],
 "metadata": {
  "anaconda-cloud": {},
  "kernelspec": {
   "display_name": "Python 3",
   "language": "python",
   "name": "python3"
  },
  "language_info": {
   "codemirror_mode": {
    "name": "ipython",
    "version": 3
   },
   "file_extension": ".py",
   "mimetype": "text/x-python",
   "name": "python",
   "nbconvert_exporter": "python",
   "pygments_lexer": "ipython3",
   "version": "3.6.2"
  }
 },
 "nbformat": 4,
 "nbformat_minor": 2
}
