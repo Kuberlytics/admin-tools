{
 "cells": [
  {
   "cell_type": "markdown",
   "metadata": {},
   "source": [
    "## Jupyterhub on Kubernetes\n",
    "\n",
    "This notebook can be used to launch a standard instance of Jupyterhub which includes a proxy server, and an instance of Jupyterhub. \n",
    "\n",
    "Notes on the Server: \n",
    "`/etc/jupyterhub/config` is where the configuration is for jupyterhub. \n",
    "\n"
   ]
  },
  {
   "cell_type": "code",
   "execution_count": null,
   "metadata": {
    "collapsed": true
   },
   "outputs": [],
   "source": [
    "import sys \n",
    "import importlib\n",
    "import ruamel.yaml\n",
    "config_file='config/config.yaml'  #The configuration value set above.\n",
    "path='/home/jovyan/work/admin-tools/' #Update this value if running locally.\n",
    "sys.path.append(path+\"lib/kuberutils\") #Adds a local library path.\n",
    "import kuberutils as ku   #This imports some utilities.\n",
    "importlib.reload(ku)      #This just reloads the utilities.\n",
    "cf=ku.initialize(path,config_file)  #This initializes a configuration object."
   ]
  },
  {
   "cell_type": "markdown",
   "metadata": {},
   "source": [
    "### Print Configuration\n",
    "Optionally you can print the configuration and common commands for your desired cluster. You can use this as a reference and copy and paste into the terminal."
   ]
  },
  {
   "cell_type": "code",
   "execution_count": null,
   "metadata": {
    "collapsed": true
   },
   "outputs": [],
   "source": [
    "#This will print common commands for your clustl\n",
    "print(ruamel.yaml.dump(cf, sys.stdout, Dumper=ruamel.yaml.RoundTripDumper))"
   ]
  },
  {
   "cell_type": "markdown",
   "metadata": {},
   "source": [
    "### Set Jupyterhub Config\n",
    "This will setup a basic configuration file for installing Jupyterhub. "
   ]
  },
  {
   "cell_type": "code",
   "execution_count": null,
   "metadata": {
    "collapsed": true
   },
   "outputs": [],
   "source": [
    "ku.set_jupyterhub_config(cf)"
   ]
  },
  {
   "cell_type": "markdown",
   "metadata": {},
   "source": [
    "## PLEASE TAKE A MINUTE TO UPDATE YOUR CONFIG FILE.\n",
    "\n",
    "If you will be keeping this instance for a while, update your config/config.yaml file so that you don't. \n",
    "\n",
    "```\n",
    "#Start of Azure Configuration\n",
    "jup_rebuild_config: false\n",
    "\n",
    "```\n",
    "\n"
   ]
  },
  {
   "cell_type": "markdown",
   "metadata": {},
   "source": [
    "## Download Helm Repo"
   ]
  },
  {
   "cell_type": "code",
   "execution_count": null,
   "metadata": {
    "collapsed": true
   },
   "outputs": [],
   "source": [
    "#Add the jupyterhub repo.\n",
    "print(ku.bash_command('jup_repo',cf))"
   ]
  },
  {
   "cell_type": "code",
   "execution_count": null,
   "metadata": {
    "collapsed": true
   },
   "outputs": [],
   "source": [
    "#This will install the jupyterhub instance.\n",
    "print(ku.bash_command('jup_install',cf))"
   ]
  },
  {
   "cell_type": "code",
   "execution_count": null,
   "metadata": {
    "collapsed": true
   },
   "outputs": [],
   "source": [
    "#This will check on the status of Jupyterhub.\n",
    "print(ku.bash_command('jup_describe', cf))"
   ]
  },
  {
   "cell_type": "code",
   "execution_count": null,
   "metadata": {
    "collapsed": true
   },
   "outputs": [],
   "source": [
    "#Get the ip/url. \n",
    "cf=ku.get_jupyterhub_ip(cf)"
   ]
  },
  {
   "cell_type": "markdown",
   "metadata": {},
   "source": [
    "## Update Authorization\n",
    "When just starting out, the default configuration launches with no password.  While there is still a username and login screen, \n"
   ]
  },
  {
   "cell_type": "code",
   "execution_count": null,
   "metadata": {
    "collapsed": true
   },
   "outputs": [],
   "source": [
    "#This is how we set the authororization\n",
    "#ku.update_config('auth','jup_github_auth', cf)\n",
    "#ku.update_config('auth','jup_google_auth', cf)\n",
    "ku.update_config('auth','jup_dummy_auth', cf)\n"
   ]
  },
  {
   "cell_type": "code",
   "execution_count": null,
   "metadata": {
    "collapsed": true
   },
   "outputs": [],
   "source": [
    "#Add Administrators\n",
    "ku.update_config('admin','jup_admin', cf)"
   ]
  },
  {
   "cell_type": "markdown",
   "metadata": {},
   "source": [
    "### Update the Singleuser Container\n",
    "This can allow you to utilize a different container. \n"
   ]
  },
  {
   "cell_type": "code",
   "execution_count": null,
   "metadata": {
    "collapsed": true
   },
   "outputs": [],
   "source": [
    "ku.update_config('singleuser','jup_singleuser', cf)"
   ]
  },
  {
   "cell_type": "code",
   "execution_count": null,
   "metadata": {
    "collapsed": true
   },
   "outputs": [],
   "source": [
    "#Upgrading Jupyterhub \n",
    "print(ku.bash_command('jup_upgrade',cf))"
   ]
  },
  {
   "cell_type": "markdown",
   "metadata": {},
   "source": [
    "Adding SSL Support via Let's Encrypt\n",
    "helm repo update \n",
    "helm install --name=letsencrypt --namespace=kube-system stable/kube-lego \\\n",
    "             --set config.LEGO_EMAIL=<your-email> \\\n",
    "             --set config.LEGO_URL=https://acme-v01.api.letsencrypt.org/directory"
   ]
  },
  {
   "cell_type": "markdown",
   "metadata": {},
   "source": [
    "## Cleanup the Installation\n",
    "This will cleanup the installation, deleting the instance of Jupyterhub."
   ]
  },
  {
   "cell_type": "code",
   "execution_count": null,
   "metadata": {
    "collapsed": true
   },
   "outputs": [],
   "source": [
    "#Delete Jupyterhub with Helm.\n",
    "print(ku.bash_command('jup_delete_instance',cf))"
   ]
  },
  {
   "cell_type": "code",
   "execution_count": null,
   "metadata": {
    "collapsed": true
   },
   "outputs": [],
   "source": [
    "#Delete Jupyterhub with Helm.\n",
    "print(ku.bash_command('jup_delete_namespace',cf))"
   ]
  }
 ],
 "metadata": {
  "anaconda-cloud": {},
  "kernelspec": {
   "display_name": "Python [conda root]",
   "language": "python",
   "name": "conda-root-py"
  },
  "language_info": {
   "codemirror_mode": {
    "name": "ipython",
    "version": 3
   },
   "file_extension": ".py",
   "mimetype": "text/x-python",
   "name": "python",
   "nbconvert_exporter": "python",
   "pygments_lexer": "ipython3",
   "version": "3.6.2"
  }
 },
 "nbformat": 4,
 "nbformat_minor": 2
}
