{
 "cells": [
  {
   "cell_type": "markdown",
   "metadata": {},
   "source": [
    "## Jupyterhub on Kubernetes\n",
    "\n",
    "This notebook can be used to launch a standard instance of Jupyterhub which includes a proxy server, and an instance of Jupyterhub. \n",
    "\n",
    "Notes on the Server: \n",
    "`/etc/jupyterhub/config` is where the configuration is for jupyterhub. \n",
    "\n"
   ]
  },
  {
   "cell_type": "code",
   "execution_count": null,
   "metadata": {},
   "outputs": [],
   "source": [
    "#This will import some required libraries.\n",
    "import sys \n",
    "import ruamel.yaml \n",
    "#This is your configuration file. \n",
    "general_yaml='../../config/config.yaml'\n",
    "with open(general_yaml, 'r') as yaml:\n",
    "    cf=ruamel.yaml.round_trip_load(yaml, preserve_quotes=True)\n",
    "\n",
    "jupyterhub_yaml='../../config/jupyterhub/config_azure_dev.yaml'\n",
    "with open(jupyterhub_yaml, 'r') as j_yaml:\n",
    "    cf_j=ruamel.yaml.round_trip_load(j_yaml, preserve_quotes=True)\n",
    "\n",
    "    #This will allow us to import some useful utilities. \n",
    "if cf['docker']:\n",
    "    cf_j['path']=cf['docker_path']\n",
    "else:\n",
    "    cf_j['path']=cf['local_path']\n",
    "\n",
    "sys.path.append(cf_j['path']+\"/lib/kuberutils\")   \n",
    "import importlib\n",
    "import kuberutils as ku\n",
    "importlib.reload(ku)\n",
    "#This will load common commands for your cluster\n",
    "cf_j=ku.jupyterhub_commands(cf_j)\n",
    "print(ruamel.yaml.dump(cf_j, sys.stdout, Dumper=ruamel.yaml.RoundTripDumper))\n",
    "\n",
    "#helm install jupyterhub/jupyterhub \\\n",
    "#    --version=v0.4 \\\n",
    "#    --name=<YOUR-RELEASE-NAME> \\\n",
    "#    --namespace=<YOUR-NAMESPACE> \\\n",
    "#    -f config.yaml"
   ]
  },
  {
   "cell_type": "code",
   "execution_count": null,
   "metadata": {},
   "outputs": [],
   "source": [
    "cf_j"
   ]
  },
  {
   "cell_type": "code",
   "execution_count": null,
   "metadata": {},
   "outputs": [],
   "source": [
    "!cat /Users/jasonkuruzovich/githubdesktop/0_class/admin-tools/config/postgres/config.yaml"
   ]
  },
  {
   "cell_type": "code",
   "execution_count": null,
   "metadata": {},
   "outputs": [],
   "source": [
    "!helm install --name my-release -f /Users/jasonkuruzovich/githubdesktop/0_class/admin-tools/config/postgres/config.yaml incubator/postgresql"
   ]
  },
  {
   "cell_type": "code",
   "execution_count": null,
   "metadata": {},
   "outputs": [],
   "source": [
    "!helm repo add bitnami https://github.com/bitnami/charts && helm repo update"
   ]
  },
  {
   "cell_type": "code",
   "execution_count": null,
   "metadata": {
    "collapsed": true
   },
   "outputs": [],
   "source": []
  }
 ],
 "metadata": {
  "anaconda-cloud": {},
  "kernelspec": {
   "display_name": "Python [conda root]",
   "language": "python",
   "name": "conda-root-py"
  },
  "language_info": {
   "codemirror_mode": {
    "name": "ipython",
    "version": 3
   },
   "file_extension": ".py",
   "mimetype": "text/x-python",
   "name": "python",
   "nbconvert_exporter": "python",
   "pygments_lexer": "ipython3",
   "version": "3.6.2"
  }
 },
 "nbformat": 4,
 "nbformat_minor": 2
}
