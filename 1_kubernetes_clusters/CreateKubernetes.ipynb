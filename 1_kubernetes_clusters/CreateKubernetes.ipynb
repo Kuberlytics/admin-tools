{
 "cells": [
  {
   "cell_type": "markdown",
   "metadata": {},
   "source": [
    "## Create Kubernetes Cluster on Azure or GKE\n",
    "\n",
    "This notebook can be used to launch a Kubernetes Cluster on [Azure](https://portal.azure.com) or the Google Container Engine (GKE) for Kubernetes.  It is designed to be run via the included Docker container, but it can be run locally if the appropriate tools are installed.  \n",
    "\n",
    "If you are just getting started run the command below to create your sample config.  Because config.yaml is listed in the .gitignore, it won't be committed. (It may have details about your specific password for implementations).\n"
   ]
  },
  {
   "cell_type": "code",
   "execution_count": null,
   "metadata": {
    "collapsed": true
   },
   "outputs": [],
   "source": [
    "!cp ../config/config.sample  ../config/config.yaml"
   ]
  },
  {
   "cell_type": "markdown",
   "metadata": {},
   "source": [
    "Now go ahead and comment out the cell above so you don't accidentally overwrite your work. \n",
    "```\n",
    "#!cp ../../config/config.sample  ../../config/config.yaml\n",
    "```"
   ]
  },
  {
   "cell_type": "markdown",
   "metadata": {},
   "source": [
    "### Load the Config File and Helpers \n",
    "Set the `config` file and the `path` and then run the code below.  This will load some helper files. "
   ]
  },
  {
   "cell_type": "code",
   "execution_count": 15,
   "metadata": {
    "collapsed": true
   },
   "outputs": [],
   "source": [
    "import sys \n",
    "import importlib\n",
    "import ruamel.yaml\n",
    "config_file='config/config.yaml'  #The configuration value set above.\n",
    "path='/home/jovyan/work/admin-tools/' #Update this value if running locally.\n",
    "sys.path.append(path+\"lib/kuberutils\") #Adds a local library path.\n",
    "import kuberutils as ku   #This imports some utilities.\n",
    "importlib.reload(ku)      #This just reloads the utilities.\n",
    "cf=ku.initialize(path,config_file)  #This initializes a configuration object."
   ]
  },
  {
   "cell_type": "markdown",
   "metadata": {},
   "source": [
    "### Print Configuration\n",
    "Optionally you can print the configuration and common commands for your desired cluster. You can use this as a reference and copy and paste into the terminal."
   ]
  },
  {
   "cell_type": "code",
   "execution_count": 9,
   "metadata": {},
   "outputs": [
    {
     "name": "stdout",
     "output_type": "stream",
     "text": [
      "#Where are you running notebooks? This is used for path.\n",
      "docker: true     #True if executing on the Kuberlytics Docker Stack.\n",
      "docker_path: /home/jovyan/work/admin-tools      #This should not change.\n",
      "local_path: /Users/jasonkuruzovich/githubdesktop/0_class/admin-tools #This is the local path\n",
      "cloud_provider: azure   #google or azure\n",
      "#Start of Google Specific Configuration\n",
      "g_project: kuberlytics             #Google project name\n",
      "g_cluster_name: kuberlytics        #Name of your Google Cluster\n",
      "g_region: us-east1                 #Selection from gcloud compute regions list.\n",
      "g_zone: us-east1-b                  #Selection from gcloud compute regions list.\n",
      "g_machine_type: n1-highmem-4        #Type of Server\n",
      "g_account: jkuruzovich@gmail.com    #Email Associated with the account.\n",
      "g_authorization_file: auth.json     #Service account authorization file.\n",
      "g_service_account_name: kuberlytics2  #Service account name.\n",
      "g_fixedip_namespace: jupyterhub-dojo\n",
      "g_num_nodes: 1                      #The default number of nodes (servers)\n",
      "g_num_nodes_class: 3\n",
      "g_max_nodes: 4\n",
      "#Start of Azure Configuration\n",
      "a_resource_group: kubwestus2rpi     #Resource groups are used to separate projects.\n",
      "a_cluster_name: kubwestus2rpi         #Name your cluster whatever you like.\n",
      "a_location: westus2                 #Selection from `az account list-locations`.\n",
      "a_dns_prefix: kubwestus2rpi          #Selection from gcloud compute regions list.\n",
      "a_machine_type: Standard_D3_v2        #Type of Server https://docs.microsoft.com/en-us/azure/cloud-services/cloud-services-sizes-specs\n",
      "a_num_nodes: 1                      #The default number of nodes (servers)\n",
      "a_num_nodes_class: 3\n",
      "a_max_nodes: 4\n",
      "a_storage_account: pach          #For use with Pachyderm\n",
      "a_container_name: pach           #For use with Pachyderm\n",
      "a_storage_name: pach2-disk.vhd   #For use with Pachyderm\n",
      "a_storage_size: 1                #For use with Pachyderm Storage account size in GB.\n",
      "\n",
      "\n",
      "\n",
      "#Start of Azure Configuration\n",
      "jup_rebuild_config: true  #if true will rebuild config file. \n",
      "jup_url: lab.analyticsdojo.com\n",
      "jup_ssl: false\n",
      "jup_email: jkuruzovich@gmail.com    #This is used for letsencrypt\n",
      "jup_namespace: dojo      #Generally the namespace and releasename should be teh same.\n",
      "jup_releasename: dojo\n",
      "jup_fixed_ip: 35.185.85.199\n",
      "jup_set_fixed_ip: false\n",
      "jup_chart: /Users/jasonkuruzovich/githubdesktop/admin-tools/helm/jupyterhub-v0.4.1.tgz\n",
      "jup_helm_repo: https://jupyterhub.github.io/helm-chart/\n",
      "jup_version: v0.4\n",
      "jup_config_init: https://raw.githubusercontent.com/jupyterhub/zero-to-jupyterhub-k8s/master/jupyterhub/values.yaml\n",
      "jup_github_auth:\n",
      "  type: github\n",
      "  github:\n",
      "    clientId: \"e106e1c6e831461a94c2\"\n",
      "    clientSecret: \"e4427fac76d117d1201b509d793f1eccde2c7c83\"\n",
      "    callbackUrl: \"http://lab.analyticsdojo.com/hub/oauth_callback\"\n",
      "jup_google_auth:\n",
      "  type: google\n",
      "  google:\n",
      "    clientId: \"yourlongclientidstring.apps.googleusercontent.com\"\n",
      "    clientSecret: \"adifferentlongstring\"\n",
      "    callbackUrl: \"http://notebooks.kuberlytics.com/hub/oauth_callback\"\n",
      "    hostedDomain: \"youruniversity.edu\"\n",
      "    loginService: \"Your University\"\n",
      "jup_dummy_auth:\n",
      "  type: dummy\n",
      "  dummy:\n",
      "    password: \"dojo\"\n",
      "jup_admin:\n",
      "  access: true\n",
      "  users: ['jkuruzovich', 'jiangl4']\n",
      "jup_singleuser:\n",
      "  image:\n",
      "    name: analyticsdojo/jupyter\n",
      "    tag: 53bf009\n",
      "jup_prePuller:\n",
      "  enabled: false\n",
      "path: /home/jovyan/work/admin-tools/\n",
      "config_file: config/config.yaml\n",
      "web_login: az login\n",
      "login: echo 'Service account login not yet available for Azure'\n",
      "create_project: az group create --name=kubwestus2rpi --location=westus2\n",
      "set_project: echo 'No need to set project in Azure.'\n",
      "set_zone: echo 'No need to set project in Azure.'\n",
      "delete_project: az group delete --name=kubwestus2rpi --yes --no-wait\n",
      "list-locations: az account list-locations\n",
      "create_cluster: az acs create --orchestrator-type=kubernetes --resource-group=kubwestus2rpi\n",
      "  --name=kubwestus2rpi --dns-prefix=kubwestus2rpi --agent-count=1 --agent-vm-size=Standard_D3_v2\n",
      "  --generate-ssh-keys --no-wait\n",
      "describe_cluster: az acs list  --resource-group=kubwestus2rpi\n",
      "autoscale: echo 'Autoscaling currently not possible.'\n",
      "create_cluster_aks: az acs create --orchestrator-type=kubernetes --resource-group=kubwestus2rpi\n",
      "  --name=kubwestus2rpi --dns-prefix=kubwestus2rpi --agent-count=1 --agent-vm-size=Standard_D3_v2\n",
      "  --generate-ssh-keys --no-wait\n",
      "describe_cluster_aks: az acs list  --resource-group=kubwestus2rpi\n",
      "delete_cluster: az acs delete  --resource-group=kubwestus2rpi --name=kubwestus2rpi\n",
      "  --no-wait\n",
      "get_credentials: az acs kubernetes get-credentials --resource-group=kubwestus2rpi\n",
      "  --name=kubwestus2rpi\n",
      "install_helm: helm init --client-only\n",
      "a_normal_size_cluster: az acs scale --resource-group=kubwestus2rpi --name=kubwestus2rpi\n",
      "  --new-agent-count 1\n",
      "a_class_size_cluster: az acs scale --resource-group=kubwestus2rpi --name=kubwestus2rpi\n",
      "  --new-agent-count 3\n",
      "a_create_storage: az storage account create --resource-group=kubwestus2rpi --location=westus2\n",
      "  --sku=Standard_LRS  --name=pach --kind=Storage\n",
      "a_get_storage_key: az storage account keys list --account-name=pach --resource-group=kubwestus2rpi\n",
      "  --output=json | jq .[0].value -r\n",
      "jup_instance: /home/jovyan/work/admin-tools/config/jupyterhub/dojo\n",
      "jup_config: /home/jovyan/work/admin-tools/config/jupyterhub/dojo/config.yaml\n",
      "jup_base: /home/jovyan/work/admin-tools/config/jupyterhub/dojo/values.yaml\n",
      "jup_install_ssl: helm install --name=letsencrypt --namespace=kube-system stable/kube-lego\n",
      "  --set config.LEGO_EMAIL=jkuruzovich@gmail.com --set config.LEGO_URL=https://acme-v01.api.letsencrypt.org/directory\n",
      "jup_repo: helm repo add jupyterhub https://jupyterhub.github.io/helm-chart/ && helm\n",
      "  repo update\n",
      "jup_install: helm install jupyterhub/jupyterhub --version=v0.4 --name=dojo --namespace=dojo\n",
      "  -f /home/jovyan/work/admin-tools/config/jupyterhub/dojo/config.yaml\n",
      "jup_upgrade: helm upgrade dojo jupyterhub/jupyterhub --version=v0.4 -f /home/jovyan/work/admin-tools/config/jupyterhub/dojo/config.yaml\n",
      "jup_describe: kubectl --namespace=dojo get pod\n",
      "jup_get_ip: kubectl --namespace=dojo get svc proxy-public\n",
      "jup_delete_instance: helm delete dojo --purge\n",
      "jup_delete_namespace: kubectl delete namespace dojo\n",
      "jup_callback_url: http://lab.analyticsdojo.com/hub/oauth_callback\n",
      "jup_get_logs: kubectl --namespace=dojo logs <insert_podname>\n",
      "which_cluster: kubectl config current-context\n",
      "clone_pachyderm: git clone https://github.com/pachyderm/pachyderm /home/jovyan/work/pachyderm\n",
      "None\n"
     ]
    }
   ],
   "source": [
    "#This will print common commands for your clustl\n",
    "print(ruamel.yaml.dump(cf, sys.stdout, Dumper=ruamel.yaml.RoundTripDumper))"
   ]
  },
  {
   "cell_type": "markdown",
   "metadata": {},
   "source": [
    "### Web Login\n",
    "\n",
    "In order to use the web login, you need to run the command below and then enter the code in the generated web link.  Careful not to commit this code to github repository. \n",
    "\n",
    "TBD: Need someone to research loging in with service account. The way google works you can download a json file that can be used for authentication.  This is better for eventual automation. \n"
   ]
  },
  {
   "cell_type": "code",
   "execution_count": 3,
   "metadata": {},
   "outputs": [
    {
     "name": "stdout",
     "output_type": "stream",
     "text": [
      "\u001b[33mTo sign in, use a web browser to open the page https://aka.ms/devicelogin and enter the code AZCFX6HGN to authenticate.\u001b[0m\n",
      "[\n",
      "  {\n",
      "    \"cloudName\": \"AzureCloud\",\n",
      "    \"id\": \"652b3848-14d2-4276-af14-fbcd7db53805\",\n",
      "    \"isDefault\": true,\n",
      "    \"name\": \"Microsoft Azure Sponsorship\",\n",
      "    \"state\": \"Enabled\",\n",
      "    \"tenantId\": \"aaf653e1-0bcd-4c2c-8658-12eb03e15774\",\n",
      "    \"user\": {\n",
      "      \"name\": \"kuruzj@rpi.edu\",\n",
      "      \"type\": \"user\"\n",
      "    }\n",
      "  }\n",
      "]\n"
     ]
    }
   ],
   "source": [
    "#For Azure: Use this. \n",
    "!az login\n"
   ]
  },
  {
   "cell_type": "markdown",
   "metadata": {},
   "source": [
    "### Google - Service Account Login\n",
    "\n",
    "This requires a authentication file for a service account to be placed in /config/gcloud.  \n"
   ]
  },
  {
   "cell_type": "code",
   "execution_count": null,
   "metadata": {
    "collapsed": true
   },
   "outputs": [],
   "source": [
    "#Login \n",
    "#ku.bash_command('login',cf) #tbd"
   ]
  },
  {
   "cell_type": "markdown",
   "metadata": {},
   "source": [
    "### Create Project \n",
    "Google calls them projects.  Azure calles them resource groups. Either way you need one. This useful to track spending and also ensure you delete all resources at the end. \n"
   ]
  },
  {
   "cell_type": "code",
   "execution_count": 10,
   "metadata": {},
   "outputs": [
    {
     "name": "stdout",
     "output_type": "stream",
     "text": [
      "Executing create_project:\n",
      " az group create --name=kubwestus2rpi --location=westus2\n"
     ]
    }
   ],
   "source": [
    "#This will set the create the project. \n",
    "result= ku.bash_command('create_project',cf)\n",
    "\n",
    "#TBD, write a test to see if State= \"Succeeded\""
   ]
  },
  {
   "cell_type": "code",
   "execution_count": 11,
   "metadata": {},
   "outputs": [
    {
     "name": "stdout",
     "output_type": "stream",
     "text": [
      "Executing set_project:\n",
      " echo 'No need to set project in Azure.'\n"
     ]
    },
    {
     "data": {
      "text/plain": [
       "'No need to set project in Azure.\\n'"
      ]
     },
     "execution_count": 11,
     "metadata": {},
     "output_type": "execute_result"
    }
   ],
   "source": [
    "#This will set the project (Google Only). \n",
    "ku.bash_command('set_project',cf)"
   ]
  },
  {
   "cell_type": "code",
   "execution_count": 12,
   "metadata": {},
   "outputs": [
    {
     "name": "stdout",
     "output_type": "stream",
     "text": [
      "Executing set_zone:\n",
      " echo 'No need to set project in Azure.'\n"
     ]
    },
    {
     "data": {
      "text/plain": [
       "'No need to set project in Azure.\\n'"
      ]
     },
     "execution_count": 12,
     "metadata": {},
     "output_type": "execute_result"
    }
   ],
   "source": [
    "#This will set the zone (Google Only). \n",
    "ku.bash_command('set_zone',cf)\n"
   ]
  },
  {
   "cell_type": "markdown",
   "metadata": {},
   "source": [
    "### Create the Cluster\n",
    "This will create your Kubernetes Cluster. You have to wait for about 5 minutes before this finishes creating.\n",
    "\n",
    "#TBD, write a test to see if State= \"Succeeded\"\n"
   ]
  },
  {
   "cell_type": "code",
   "execution_count": 13,
   "metadata": {},
   "outputs": [
    {
     "name": "stdout",
     "output_type": "stream",
     "text": [
      "Executing create_cluster:\n",
      " az acs create --orchestrator-type=kubernetes --resource-group=kubwestus2rpi --name=kubwestus2rpi --dns-prefix=kubwestus2rpi --agent-count=1 --agent-vm-size=Standard_D3_v2 --generate-ssh-keys --no-wait\n",
      "WARNING: SSH key files '/home/jovyan/.ssh/id_rsa' and '/home/jovyan/.ssh/id_rsa.pub' have been generated under ~/.ssh to allow SSH access to the VM. If using machines without permanent storage like Azure Cloud Shell without an attached file share, back up your keys to a safe location\n",
      "AAD role propagation done[############################################]  100.0000%\n"
     ]
    }
   ],
   "source": [
    "#This will create the cluseter and can be very long running. \n",
    "print(ku.bash_command('create_cluster', cf))\n"
   ]
  },
  {
   "cell_type": "markdown",
   "metadata": {},
   "source": [
    "### Get Credentials for Kubectl\n",
    "We need to add the credentials for Kubectl to work. You need a bit of time for your Kubernetes to launch."
   ]
  },
  {
   "cell_type": "code",
   "execution_count": 16,
   "metadata": {},
   "outputs": [
    {
     "name": "stdout",
     "output_type": "stream",
     "text": [
      "Executing get_credentials:\n",
      " az acs kubernetes get-credentials --resource-group=kubwestus2rpi --name=kubwestus2rpi\n",
      "ERROR: Could not find container service resource: kubwestus2rpi in subscription: 652b3848-14d2-4276-af14-fbcd7db53805, resourceGroup: kubwestus2rpi.\n",
      "\n"
     ]
    }
   ],
   "source": [
    "#gcloud container clusters get-credentials kuberlytics\n",
    "print(ku.bash_command('get_credentials',cf))\n"
   ]
  },
  {
   "cell_type": "code",
   "execution_count": null,
   "metadata": {
    "collapsed": true
   },
   "outputs": [],
   "source": [
    "#Check to see if we have Kubectl working. \n",
    "print(ku.bash_command(\"kubectl cluster-info\"))\n"
   ]
  },
  {
   "cell_type": "code",
   "execution_count": null,
   "metadata": {
    "collapsed": true
   },
   "outputs": [],
   "source": [
    "#Check notes with Kubectl\n",
    "print(ku.bash_command(\"kubectl get node\"))\n"
   ]
  },
  {
   "cell_type": "markdown",
   "metadata": {},
   "source": [
    "### Helm Installation.  \n",
    "We are going to be utilizing Helm for  installations of a variety of analytics tools.  This command will install Tiller on your cluster.  As they say, \"Happy Helming!\" \n",
    "\n",
    "A critical factor for Helm is that you have the same version running locally and via your machine.  If you run helm version and you have the right version, then you should be fine.\n",
    "\n",
    "```\n",
    "Client: &version.Version{SemVer:\"v2.6.2\", GitCommit:\"be3ae4ea91b2960be98c07e8f73754e67e87963c\", GitTreeState:\"clean\"}\n",
    "Server: &version.Version{SemVer:\"v2.6.2\", GitCommit:\"be3ae4ea91b2960be98c07e8f73754e67e87963c\", GitTreeState:\"clean\"}\n",
    "```\n",
    "\n",
    "To install the appropriate version: \n",
    "\n",
    "```\n",
    "curl https://raw.githubusercontent.com/kubernetes/helm/master/scripts/get > get_helm.sh\n",
    "chmod 700 get_helm.sh\n",
    "RUN get_helm.sh --version v2.6.2\n",
    "\n",
    "```\n"
   ]
  },
  {
   "cell_type": "code",
   "execution_count": 51,
   "metadata": {},
   "outputs": [
    {
     "name": "stdout",
     "output_type": "stream",
     "text": [
      "Executing helm version:\n",
      " helm version\n"
     ]
    },
    {
     "data": {
      "text/plain": [
       "'Client: &version.Version{SemVer:\"v2.6.2\", GitCommit:\"be3ae4ea91b2960be98c07e8f73754e67e87963c\", GitTreeState:\"clean\"}\\nServer: &version.Version{SemVer:\"v2.6.2\", GitCommit:\"be3ae4ea91b2960be98c07e8f73754e67e87963c\", GitTreeState:\"clean\"}\\n'"
      ]
     },
     "execution_count": 51,
     "metadata": {},
     "output_type": "execute_result"
    }
   ],
   "source": [
    "#This may need to be run more than once if you get a \"cannot connect to server.\"\n",
    "result=ku.bash_command(\"helm version\")\n",
    "result"
   ]
  },
  {
   "cell_type": "code",
   "execution_count": null,
   "metadata": {
    "collapsed": true
   },
   "outputs": [],
   "source": [
    "# Both ACS and GKE install tiller on the server.\n",
    "print(ku.bash_command('install_helm',cf))"
   ]
  },
  {
   "cell_type": "code",
   "execution_count": 49,
   "metadata": {},
   "outputs": [
    {
     "name": "stdout",
     "output_type": "stream",
     "text": [
      "Executing helm init --upgrade:\n",
      " helm init --upgrade\n",
      "Creating /home/jovyan/.helm \n",
      "Creating /home/jovyan/.helm/repository \n",
      "Creating /home/jovyan/.helm/repository/cache \n",
      "Creating /home/jovyan/.helm/repository/local \n",
      "Creating /home/jovyan/.helm/plugins \n",
      "Creating /home/jovyan/.helm/starters \n",
      "Creating /home/jovyan/.helm/cache/archive \n",
      "Creating /home/jovyan/.helm/repository/repositories.yaml \n",
      "$HELM_HOME has been configured at /home/jovyan/.helm.\n",
      "\n",
      "Tiller (the Helm server-side component) has been upgraded to the current version.\n",
      "Happy Helming!\n",
      "\n"
     ]
    }
   ],
   "source": [
    "print(ku.bash_command(\"helm init --upgrade\"))"
   ]
  },
  {
   "cell_type": "markdown",
   "metadata": {},
   "source": [
    "### Enabling Autoscaling (optional)\n",
    "\n",
    "This should launch a pod within your kubernetes cluster that will handle autoscaling of the cluster. Note that this seems to take a while and may even timeout. Consider opening and running in a terminal session. "
   ]
  },
  {
   "cell_type": "code",
   "execution_count": null,
   "metadata": {
    "collapsed": true
   },
   "outputs": [],
   "source": [
    "#Google only. Currently Not possible with azure\n",
    "ku.bash_command(cf['autoscale'])"
   ]
  },
  {
   "cell_type": "markdown",
   "metadata": {},
   "source": [
    "#### That is it! You now have your own Kubernetes cluster that is ready to go. "
   ]
  },
  {
   "cell_type": "markdown",
   "metadata": {},
   "source": [
    "### Resize a Cluster\n",
    "To stop a cluster without deleting it you just resize it to 0."
   ]
  },
  {
   "cell_type": "code",
   "execution_count": null,
   "metadata": {
    "collapsed": true
   },
   "outputs": [],
   "source": [
    "#TBD\n",
    "ku.bash_command(cf['class_size_cluster'])"
   ]
  },
  {
   "cell_type": "code",
   "execution_count": null,
   "metadata": {
    "collapsed": true
   },
   "outputs": [],
   "source": [
    "#TBD\n",
    "#ku.bash_command(cf_g['stop_cluster'])"
   ]
  },
  {
   "cell_type": "code",
   "execution_count": null,
   "metadata": {
    "collapsed": true
   },
   "outputs": [],
   "source": [
    "#TBD\n",
    "ku.bash_command(cf['normal_size_cluster'])"
   ]
  },
  {
   "cell_type": "markdown",
   "metadata": {},
   "source": [
    "### Deleting a Kubernetes Cluster\n",
    "\n",
    "This will delete the Kubernetes cluster by deleting the entire project. This will prefent any future charges. "
   ]
  },
  {
   "cell_type": "code",
   "execution_count": 17,
   "metadata": {},
   "outputs": [
    {
     "name": "stdout",
     "output_type": "stream",
     "text": [
      "Executing delete_project:\n",
      " az group delete --name=kubwestus2rpi --yes --no-wait\n",
      "\n"
     ]
    }
   ],
   "source": [
    "#Always delete the namespace first. \n",
    "print(ku.bash_command('delete_project',cf))"
   ]
  },
  {
   "cell_type": "code",
   "execution_count": null,
   "metadata": {
    "collapsed": true
   },
   "outputs": [],
   "source": []
  }
 ],
 "metadata": {
  "anaconda-cloud": {},
  "kernelspec": {
   "display_name": "Python [conda root]",
   "language": "python",
   "name": "conda-root-py"
  },
  "language_info": {
   "codemirror_mode": {
    "name": "ipython",
    "version": 3
   },
   "file_extension": ".py",
   "mimetype": "text/x-python",
   "name": "python",
   "nbconvert_exporter": "python",
   "pygments_lexer": "ipython3",
   "version": "3.6.2"
  }
 },
 "nbformat": 4,
 "nbformat_minor": 2
}
