{
 "cells": [
  {
   "cell_type": "markdown",
   "metadata": {},
   "source": [
    "## Retreive Configuration\n",
    "This is to retreive the configuration. Set this equal to the clustername that you want to use. \n"
   ]
  },
  {
   "cell_type": "code",
   "execution_count": 3,
   "metadata": {
    "collapsed": true
   },
   "outputs": [],
   "source": [
    "cf = dict()\n",
    "cf['cloud_provider']='azure'      #azure of google\n",
    "cf['project_name']='kuberlytics'  #Must be globally unique.\n",
    "cf['restore_config']=True   #Only True for existing or previous cluster   \n",
    "cf['cluster_name']='kuberlytics'         #Only use if restore_config==True\n",
    "cf['config_file']='config/config.yaml'  #The configuration will be overwritten if retreived.\n",
    "cf['path']='/home/jovyan/admin-tools/'  #Path to admintools repository\n",
    "cf['ssh_dir']='/home/jovyan/.ssh/'      #ssh directory"
   ]
  },
  {
   "cell_type": "markdown",
   "metadata": {},
   "source": [
    "### Load the Config File and Helpers \n",
    "Set the `config` file and the `path` and then run the code below.  This will load some helper files. "
   ]
  },
  {
   "cell_type": "code",
   "execution_count": 4,
   "metadata": {},
   "outputs": [
    {
     "name": "stdout",
     "output_type": "stream",
     "text": [
      "Executing az keyvault secret show --vault-name=kuberlytics --name=kuberlytics-public-key:\n",
      " az keyvault secret show --vault-name=kuberlytics --name=kuberlytics-public-key\n",
      "Executing az keyvault secret show --vault-name=kuberlytics --name=kuberlytics-private-key:\n",
      " az keyvault secret show --vault-name=kuberlytics --name=kuberlytics-private-key\n",
      "Executing az keyvault secret show --vault-name=kuberlytics --name=kuberlytics-config-file:\n",
      " az keyvault secret show --vault-name=kuberlytics --name=kuberlytics-config-file\n"
     ]
    }
   ],
   "source": [
    "import sys \n",
    "import importlib\n",
    "import ruamel.yaml\n",
    "sys.path.append(cf['path']+\"lib/kuberutils\") #Adds a local library path.\n",
    "import kuberutils as ku   #This imports some utilities.\n",
    "importlib.reload(ku)      #This just reloads the utilities.\n",
    "cf=ku.initialize(cf)  #This initializes a configuration object."
   ]
  },
  {
   "cell_type": "code",
   "execution_count": 5,
   "metadata": {},
   "outputs": [
    {
     "name": "stdout",
     "output_type": "stream",
     "text": [
      "Executing get_credentials:\n",
      " az acs kubernetes get-credentials --resource-group=kuberlytics --name=kuberlytics --ssh-key-file=~/.ssh/id_rsa_kuberlytics\n",
      "Merged \"kuberlyticsmgmt\" as current context in /home/jovyan/.kube/config\n",
      "\n"
     ]
    }
   ],
   "source": [
    "#gcloud container clusters get-credentials kuberlytics\n",
    "print(ku.bash_command('get_credentials',cf))\n",
    "\n"
   ]
  },
  {
   "cell_type": "markdown",
   "metadata": {},
   "source": [
    "### That is it! You now have your own Kubernetes cluster that is ready to be controlled using kubectrl. \n",
    "\n",
    "You can open a terminal session from the main jupyter notebook or issue commands right here. \n",
    "\n",
    "Adding an exclimation point issues the command. \n",
    "```\n",
    "!kubectl config current-context\n",
    "```"
   ]
  },
  {
   "cell_type": "code",
   "execution_count": 6,
   "metadata": {},
   "outputs": [
    {
     "name": "stdout",
     "output_type": "stream",
     "text": [
      "kuberlyticsmgmt\r\n"
     ]
    }
   ],
   "source": [
    "!kubectl config current-context"
   ]
  },
  {
   "cell_type": "code",
   "execution_count": 8,
   "metadata": {},
   "outputs": [
    {
     "name": "stdout",
     "output_type": "stream",
     "text": [
      "Executing kubectl get pods --all-namespaces:\n",
      " kubectl get pods --all-namespaces\n",
      "NAMESPACE     NAME                                            READY     STATUS    RESTARTS   AGE\n",
      "kube-system   heapster-342135353-c11w9                        2/2       Running   0          9m\n",
      "kube-system   kube-addon-manager-k8s-master-43901bc1-0        1/1       Running   0          9m\n",
      "kube-system   kube-apiserver-k8s-master-43901bc1-0            1/1       Running   0          9m\n",
      "kube-system   kube-controller-manager-k8s-master-43901bc1-0   1/1       Running   0          9m\n",
      "kube-system   kube-dns-v20-3003781527-l0z0z                   3/3       Running   0          10m\n",
      "kube-system   kube-dns-v20-3003781527-v68cc                   3/3       Running   0          10m\n",
      "kube-system   kube-proxy-14vgx                                1/1       Running   0          10m\n",
      "kube-system   kube-proxy-lz07n                                1/1       Running   0          10m\n",
      "kube-system   kube-scheduler-k8s-master-43901bc1-0            1/1       Running   0          9m\n",
      "kube-system   kubernetes-dashboard-924040265-w9zz6            1/1       Running   1          10m\n",
      "kube-system   tiller-deploy-2986815932-8fskq                  1/1       Running   0          9m\n",
      "\n"
     ]
    }
   ],
   "source": [
    "print(ku.bash_command('kubectl get pods --all-namespaces'))"
   ]
  },
  {
   "cell_type": "code",
   "execution_count": null,
   "metadata": {
    "collapsed": true
   },
   "outputs": [],
   "source": []
  }
 ],
 "metadata": {
  "anaconda-cloud": {},
  "kernelspec": {
   "display_name": "Python 3",
   "language": "python",
   "name": "python3"
  },
  "language_info": {
   "codemirror_mode": {
    "name": "ipython",
    "version": 3
   },
   "file_extension": ".py",
   "mimetype": "text/x-python",
   "name": "python",
   "nbconvert_exporter": "python",
   "pygments_lexer": "ipython3",
   "version": "3.6.2"
  }
 },
 "nbformat": 4,
 "nbformat_minor": 2
}
