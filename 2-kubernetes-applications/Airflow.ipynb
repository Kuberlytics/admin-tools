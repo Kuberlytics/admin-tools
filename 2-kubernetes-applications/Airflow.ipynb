{
 "cells": [
  {
   "cell_type": "markdown",
   "metadata": {},
   "source": [
    "## Airflow on Kubernetes\n",
    "\n",
    "This notebook can be used to launch a standard instance of Jupyterhub which includes a proxy server, and an instance of Jupyterhub. \n",
    "\n",
    "Notes on the Server: \n",
    "`/etc/jupyterhub/config` is where the configuration is for jupyterhub. \n",
    "\n"
   ]
  },
  {
   "cell_type": "code",
   "execution_count": 2,
   "metadata": {
    "collapsed": true
   },
   "outputs": [],
   "source": [
    "import sys \n",
    "import importlib\n",
    "import ruamel.yaml\n",
    "config_file='config/config.yaml'  #The configuration value set above.\n",
    "path='/home/jovyan/work/admin-tools/' #Update this value if running locally.\n",
    "sys.path.append(path+\"lib/kuberutils\") #Adds a local library path.\n",
    "import kuberutils as ku   #This imports some utilities.\n",
    "importlib.reload(ku)      #This just reloads the utilities.\n",
    "cf=ku.initialize(path,config_file)  #This initializes a configuration object."
   ]
  },
  {
   "cell_type": "markdown",
   "metadata": {},
   "source": [
    "### Print Configuration\n",
    "Optionally you can print the configuration and common commands for your desired cluster. You can use this as a reference and copy and paste into the terminal."
   ]
  },
  {
   "cell_type": "code",
   "execution_count": 4,
   "metadata": {},
   "outputs": [
    {
     "data": {
      "text/plain": [
       "'/home/jovyan/work/admin-tools/config/airflow/'"
      ]
     },
     "execution_count": 4,
     "metadata": {},
     "output_type": "execute_result"
    }
   ],
   "source": [
    "cf['airflow_config']=cf['path']+\"config/airflow/\"\n",
    "cf['airflow_config']"
   ]
  },
  {
   "cell_type": "code",
   "execution_count": null,
   "metadata": {
    "collapsed": true
   },
   "outputs": [],
   "source": [
    "#This will print common commands for your clustl\n",
    "print(ruamel.yaml.dump(cf, sys.stdout, Dumper=ruamel.yaml.RoundTripDumper))"
   ]
  },
  {
   "cell_type": "code",
   "execution_count": null,
   "metadata": {
    "collapsed": true
   },
   "outputs": [],
   "source": [
    "\n",
    "bash_command(\"wget -P \"+ cf['jup_instance']+\" \"+cf['jup_config_init'])"
   ]
  },
  {
   "cell_type": "code",
   "execution_count": null,
   "metadata": {
    "collapsed": true
   },
   "outputs": [],
   "source": [
    "cf_j['jup_instance']=cf_j['path']+\"config/jupyterhub/\"+cf_j['jup_namespace']\n",
    "bash_command('rm -rf '+cf['jup_instance'])\n",
    "bash_command('mkdir '+cf['jup_instance'])\n",
    "\n",
    "!wget -P "
   ]
  },
  {
   "cell_type": "markdown",
   "metadata": {},
   "source": [
    "## Cleanup the Installation\n",
    "This will cleanup the installation, deleting the instance of Jupyterhub."
   ]
  },
  {
   "cell_type": "code",
   "execution_count": null,
   "metadata": {
    "collapsed": true
   },
   "outputs": [],
   "source": [
    "#Delete Jupyterhub with Helm.\n",
    "print(ku.bash_command('jup_delete_instance',cf))"
   ]
  },
  {
   "cell_type": "code",
   "execution_count": null,
   "metadata": {
    "collapsed": true
   },
   "outputs": [],
   "source": [
    "#Delete Jupyterhub with Helm.\n",
    "print(ku.bash_command('jup_delete_namespace',cf))"
   ]
  }
 ],
 "metadata": {
  "anaconda-cloud": {},
  "kernelspec": {
   "display_name": "Python [conda root]",
   "language": "python",
   "name": "conda-root-py"
  },
  "language_info": {
   "codemirror_mode": {
    "name": "ipython",
    "version": 3
   },
   "file_extension": ".py",
   "mimetype": "text/x-python",
   "name": "python",
   "nbconvert_exporter": "python",
   "pygments_lexer": "ipython3",
   "version": "3.6.2"
  }
 },
 "nbformat": 4,
 "nbformat_minor": 2
}
