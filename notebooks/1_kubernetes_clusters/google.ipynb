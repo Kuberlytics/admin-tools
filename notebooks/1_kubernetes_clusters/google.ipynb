{
 "cells": [
  {
   "cell_type": "markdown",
   "metadata": {},
   "source": [
    "## Kubernetes on the Google Cloud Platform\n",
    "\n",
    "This notebook can be used to launch a Kubernetes Cluster on the [Google Cloud Platform](). \n",
    "\n",
    "1. First make sure that [gcloud and kubectl are  installed on your computer](https://zero-to-jupyterhub-with-kubernetes.readthedocs.io/en/latest/create-k8s-cluster.html#setting-up-kubernetes-on-google-cloud). \n",
    "2. Make sure [helm is installed](https://zero-to-jupyterhub-with-kubernetes.readthedocs.io/en/latest/setup-helm.html).\n",
    "\n",
    "3. Create a project on the Google Cloud Platform. \n",
    "4. Enable the Google Cloud API. \n",
    "\n",
    "*Note: If `gcloud` needs to be updated, you are better off launching a terminal and doing it in there.  There can be timeout issues when doing it from a Jupyter notebooks.*\n",
    "\n",
    "How big of a cluster do you need? Check out [this spreadsheet](https://docs.google.com/spreadsheets/d/1EvGMgS2JiGm8UuB9eDOQRjm79LapjJz4ubk7YDVqplY/edit?usp=sharing) or this \n",
    "[Notebook](https://github.com/data-8/jupyterhub-k8s/blob/master/docs/cost-estimation/gce_budgeting.ipynb) to estimate the size. \n",
    "\n"
   ]
  },
  {
   "cell_type": "markdown",
   "metadata": {},
   "source": [
    "## Configuration Setup\n",
    "\n",
    "There are a variety of different parameters that need to be set for your cluster. We have the defaults set in the Kubernetes.yaml file.   \n",
    "\n",
    "### Cluster Properties\n",
    "*Cluster Name (cluster_name)*:  Nothing special for the cluster name. You just have to name it something.  \n",
    "\n",
    "*Namesapece*: You can read more about namespaces [here](https://kubernetes.io/docs/concepts/overview/working-with-objects/namespaces/).\n",
    "\n",
    "*Releasename*: A releasename is a way of versioning your system.  \n",
    "\n",
    "*Zone*: See this advice from google on [choosing a zone](https://cloud.google.com/compute/docs/regions-zones/regions-zones#choosing_a_region_and_zone).\n",
    "\n",
    "### Cluster Size and Autoscaling\n",
    "\n",
    "*Number of Nodes (num_nodes)*: This is the number of servers which you are asking Google to launch.  This will clearly be one of the factors which drives the overall costs.\n",
    "\n",
    "*Machine Type*: This is a (https://cloud.google.com/compute/docs/machine-types)\n",
    "\n",
    "*Maximum Number of Nodes (max_nodes)*: If you enable autoscaling, Google will launch additional servers based on demand, up to the `maz Autoscaling is the process of increasing the number of servers based on demand.\n",
    "\n",
    "**If you would like to make changes, just update the Kubernetes.yaml file.** \n"
   ]
  },
  {
   "cell_type": "code",
   "execution_count": 6,
   "metadata": {},
   "outputs": [
    {
     "name": "stdout",
     "output_type": "stream",
     "text": [
      "/Users/jasonkuruzovich/githubdesktop/0_class/admin-tools/lib/kuberutils\n",
      "project: kuberlytics             #Project name can be anything, but it should already be created.\n",
      "cluster_name: kuberlytics         #Name your cluster whatever you like\n",
      "region: us-east1               #Selection from gcloud compute regions list.\n",
      "zone: us-east1-b                  #Selection from gcloud compute regions list.\n",
      "machine_type: n1-highmem-4        #Type of Server\n",
      "num_nodes: 1                      #The default number of nodes (servers)\n",
      "num_nodes_class: 2\n",
      "max_nodes: 4                      #Maximum number of nodes (servers)\n",
      "account: jkuruzovich@gmail.com    #Email Associated with the account.\n",
      "authorization_file: auth.json     #Service account authorization file.\n",
      "service_account_name: kuberlytics2  #Service account name.\n",
      "fixedip_namespace: jupyterhub-dojo\n",
      "path: /Users/jasonkuruzovich/githubdesktop/0_class/admin-tools\n",
      "create_service_account: gcloud iam service-accounts create kuberlytics2 --display-name\n",
      "  kuberlytics2\n",
      "create_key: gcloud iam service-accounts keys create /Users/jasonkuruzovich/githubdesktop/0_class/admin-tools/config/gcloud/auth.json\n",
      "  --iam-account kuberlytics2@kuberlytics.iam.gserviceaccount.com\n",
      "get_policy: gcloud iam service-accounts get-iam-policy kuberlytics2@kuberlytics.iam.gserviceaccount.com\n",
      "  --format json > /Users/jasonkuruzovich/githubdesktop/0_class/admin-tools/config/gcloud/policy.json\n",
      "set_policy: gcloud iam service-accounts set-iam-policy kuberlytics2@kuberlytics.iam.gserviceaccount.com\n",
      "  /Users/jasonkuruzovich/githubdesktop/0_class/admin-tools/config/gcloud/policy.json\n",
      "login: gcloud auth activate-service-account  --key-file /Users/jasonkuruzovich/githubdesktop/0_class/admin-tools/config/gcloud/auth.json\n",
      "set_project: gcloud config set project kuberlytics\n",
      "set_zone: gcloud config set compute/zone us-east1-b\n",
      "create_cluster: gcloud container clusters create kuberlytics --num-nodes=1 --machine-type=n1-highmem-4\n",
      "  --zone=us-east1-b\n",
      "get_credentials: gcloud container clusters get-credentials kuberlytics\n",
      "stop_cluster: gcloud container clusters resize kuberlytics --size=0 --quiet\n",
      "normal_size_cluster: gcloud container clusters resize kuberlytics --size=1 --quiet\n",
      "class_size_cluster: gcloud container clusters resize kuberlytics --size=2 --quiet\n",
      "delete_cluster: gcloud container clusters delete kuberlytics --zone=us-east1-b --quiet\n",
      "autoscale: gcloud alpha container clusters update kuberlytics --enable-autoscaling\n",
      "  --min-nodes=1 --max-nodes=4 --zone=us-east1-b --node-pool=default-pool\n",
      "create_fixedip: gcloud compute addresses create jupyterhub-dojo --region=us-east1\n",
      "describe_fixedip: gcloud compute addresses describe jupyterhub-dojo --region=us-east1\n",
      "delete_forwarding_rule: gcloud compute forwarding-rules delete forwarding_rule --quiet\n",
      "delete_fixedip: gcloud compute addresses delete jupyterhub-dojo --region=us-east1\n",
      "  --quiet\n",
      "describe_cluster: gcloud container clusters describe kuberlytics\n",
      "None\n"
     ]
    }
   ],
   "source": [
    "#This will import some required libraries.\n",
    "import sys \n",
    "import ruamel.yaml \n",
    "#This is your configuration file. \n",
    "general_yaml='../../config/config.yaml'\n",
    "with open(general_yaml, 'r') as yaml:\n",
    "    cf=ruamel.yaml.round_trip_load(yaml, preserve_quotes=True)\n",
    "\n",
    "google_yaml='../../config/gcloud/config.yaml'\n",
    "with open(google_yaml, 'r') as g_yaml:\n",
    "    cf_g=ruamel.yaml.round_trip_load(g_yaml, preserve_quotes=True)\n",
    "\n",
    "    #This will allow us to import some useful utilities. \n",
    "if cf['docker']:\n",
    "    cf_g['path']=cf['docker_path']\n",
    "else:\n",
    "    cf_g['path']=cf['local_path']\n",
    "\n",
    "sys.path.append(cf_g['path']+\"/lib/kuberutils\") \n",
    "print(cf_g['path']+\"/lib/kuberutils\")\n",
    "import importlib\n",
    "import kuberutils as ku\n",
    "importlib.reload(ku)\n",
    "#This will load common commands for your cluster\n",
    "cf_g=ku.gcloud_commands(cf_g)\n",
    "print(ruamel.yaml.dump(cf_g, sys.stdout, Dumper=ruamel.yaml.RoundTripDumper))"
   ]
  },
  {
   "cell_type": "markdown",
   "metadata": {},
   "source": [
    "### Web Login\n",
    "\n",
    "In order to use the web login, you have to open a terminal session.  Click on the `Jupyter` icon on the top left of the notebook and then click `new`->`terminal`.\n",
    "\n",
    "Once in the terminal, issue the following command to login to your gmail account. It will provide you with a code you will then enter into the container. \n",
    "\n",
    "```\n",
    "gcloud init\n",
    "```\n",
    "\n",
    "```\n",
    "sudo docker run -t -i --name gcloud-config kuberlytics/gcloud-sdk gcloud init\n",
    "```\n",
    "\n",
    "Once you login you can then use the terminal to create a service account:  (NEED TO TEST THIS)\n",
    "\n",
    "```\n",
    "sudo docker run -t -i --name gcloud-config kuberlytics/gcloud-sdkgcloud iam service-accounts keys create --iam-account <youremail> /kuberlytics/config/gcloud/newkey.json\n",
    "```"
   ]
  },
  {
   "cell_type": "markdown",
   "metadata": {},
   "source": [
    "### Service Account Login\n",
    "This is the easier way to manage login programatically.  Please be very careful about sharing this file and DON'T commit it!\n",
    "\n",
    "Follow (this link)[https://cloud.google.com/compute/docs/access/create-enable-service-accounts-for-instances#createanewserviceaccount] to setup your service account. \n",
    "\n",
    "In you configuration file, set the name of your file here.  \n",
    "`authorization_file: auth.json`\n",
    "\n",
    "Then place the file in the `/config/gcloud`  directory.\n",
    "\n",
    "https://cloud.google.com/iam/docs/granting-roles-to-service-accounts\n",
    "gcloud iam service-accounts get-iam-policy \\\n",
    "kuberlytics@kuberlytics.iam.gserviceaccount.com \\\n",
    "--format json > policy.json"
   ]
  },
  {
   "cell_type": "code",
   "execution_count": 7,
   "metadata": {},
   "outputs": [
    {
     "name": "stdout",
     "output_type": "stream",
     "text": [
      "Executing login:\n",
      " gcloud auth activate-service-account  --key-file /Users/jasonkuruzovich/githubdesktop/0_class/admin-tools/config/gcloud/auth.json\n"
     ]
    },
    {
     "data": {
      "text/plain": [
       "'Activated service account credentials for: [kuberlytics2@kuberlytics.iam.gserviceaccount.com]\\n'"
      ]
     },
     "execution_count": 7,
     "metadata": {},
     "output_type": "execute_result"
    }
   ],
   "source": [
    "#Login\n",
    "ku.bash_command('login',cf_g)"
   ]
  },
  {
   "cell_type": "markdown",
   "metadata": {},
   "source": [
    "### Set Project and Zone\n",
    "`gcloud` must be configured to the appropriate project. In the output above your will see a response that says `the current project is [PROJECT_NAME]`. If you have muliple projects, you probabaly already know this. You can see all of your projects by using the command: \n",
    "\n",
    "`!gcloud projects list`\n",
    "\n",
    "and then set the appropriate project:\n",
    "\n",
    "`!gcloud config set project PROJECT_NAME\n"
   ]
  },
  {
   "cell_type": "code",
   "execution_count": 8,
   "metadata": {},
   "outputs": [
    {
     "name": "stdout",
     "output_type": "stream",
     "text": [
      "Executing set_project:\n",
      " gcloud config set project kuberlytics\n"
     ]
    },
    {
     "data": {
      "text/plain": [
       "'Updated property [core/project].\\n'"
      ]
     },
     "execution_count": 8,
     "metadata": {},
     "output_type": "execute_result"
    }
   ],
   "source": [
    "#This will set the project. \n",
    "ku.bash_command('set_project',cf_g)\n"
   ]
  },
  {
   "cell_type": "code",
   "execution_count": 4,
   "metadata": {},
   "outputs": [
    {
     "name": "stdout",
     "output_type": "stream",
     "text": [
      "Executing set_zone:\n",
      " gcloud config set compute/zone us-east1-b\n"
     ]
    },
    {
     "data": {
      "text/plain": [
       "'Updated property [compute/zone].\\n'"
      ]
     },
     "execution_count": 4,
     "metadata": {},
     "output_type": "execute_result"
    }
   ],
   "source": [
    "#This will set the zone.\n",
    "ku.bash_command('set_zone',cf_g)"
   ]
  },
  {
   "cell_type": "markdown",
   "metadata": {},
   "source": [
    "### Create the Cluster\n",
    "You are ready to go!  We are now going to tell the Google Cloud platform to create a Kubernetes cluster for us.  We do this with the `gcloud container clusters create` \n",
    "\n",
    "To see the full range of possible configurations enter: `gcloud container clusters create --help.` This will show all the possible parameters that can be passed:\n",
    "\n",
    "```markdown\n",
    "    gcloud container clusters create NAME [--additional-zones=ZONE,[ZONE,...]]\n",
    "        [--async] [--cluster-ipv4-cidr=CLUSTER_IPV4_CIDR]\n",
    "        [--cluster-version=CLUSTER_VERSION]\n",
    "        [--disable-addons=[DISABLE_ADDONS,...]] [--disk-size=DISK_SIZE]\n",
    "        [--no-enable-cloud-endpoints] [--no-enable-cloud-logging]\n",
    "        [--no-enable-cloud-monitoring] [--image-type=IMAGE_TYPE]\n",
    "        [--machine-type=MACHINE_TYPE, -m MACHINE_TYPE]\n",
    "        [--max-nodes-per-pool=MAX_NODES_PER_POOL] [--network=NETWORK]\n",
    "        [--node-labels=[NODE_LABEL,...]] [--num-nodes=NUM_NODES; default=\"3\"]\n",
    "        [--password=PASSWORD] [--scopes=SCOPE,[SCOPE,...]]\n",
    "        [--subnetwork=SUBNETWORK] [--tags=TAG,[TAG,...]]\n",
    "        [--username=USERNAME, -u USERNAME; default=\"admin\"]\n",
    "        [--zone=ZONE, -z ZONE] [GLOBAL-FLAG ...]\n",
    "        \n",
    "        ```\n",
    "        \n",
    " The user does not have access to service account \"default\".\\n'\n",
    " Service Account Actor\""
   ]
  },
  {
   "cell_type": "code",
   "execution_count": 5,
   "metadata": {},
   "outputs": [
    {
     "name": "stdout",
     "output_type": "stream",
     "text": [
      "Executing create_cluster:\n",
      " gcloud container clusters create kuberlytics --num-nodes=1 --machine-type=n1-highmem-4 --zone=us-east1-b\n",
      "Creating cluster kuberlytics...\n",
      "..............................................................................................................................................................done.\n",
      "Created [https://container.googleapis.com/v1/projects/kuberlytics/zones/us-east1-b/clusters/kuberlytics].\n",
      "kubeconfig entry generated for kuberlytics.\n",
      "NAME         ZONE        MASTER_VERSION  MASTER_IP     MACHINE_TYPE  NODE_VERSION  NUM_NODES  STATUS\n",
      "kuberlytics  us-east1-b  1.6.9           35.196.99.23  n1-highmem-4  1.6.9         1          RUNNING\n",
      "\n"
     ]
    }
   ],
   "source": [
    "#This will create the cluseter\n",
    "print(ku.bash_command('create_cluster',cf_g))"
   ]
  },
  {
   "cell_type": "markdown",
   "metadata": {},
   "source": [
    "### Verifying the Servers\n",
    "We can now verify that the cluster has successfully launched by asking gcloud to list the instances. This should report the number of instances specified in the num_nodes variable. \n",
    "\n",
    "`!gcloud compute instances list`\n"
   ]
  },
  {
   "cell_type": "code",
   "execution_count": 9,
   "metadata": {},
   "outputs": [
    {
     "name": "stdout",
     "output_type": "stream",
     "text": [
      "Executing gcloud compute instances list:\n",
      " gcloud compute instances list\n",
      "NAME                                        ZONE        MACHINE_TYPE  PREEMPTIBLE  INTERNAL_IP  EXTERNAL_IP    STATUS\n",
      "gke-kuberlytics-default-pool-3af057b0-grlb  us-east1-b  n1-highmem-4               10.142.0.3   35.196.222.73  RUNNING\n",
      "gke-kuberlytics-default-pool-3af057b0-q2hx  us-east1-b  n1-highmem-4               10.142.0.2   104.196.9.241  RUNNING\n",
      "\n"
     ]
    }
   ],
   "source": [
    "print(ku.bash_command(\"gcloud compute instances list\"))"
   ]
  },
  {
   "cell_type": "markdown",
   "metadata": {},
   "source": [
    "### Get Credentials for Kubectl\n",
    "We need to add the credentials for Kubectl to work. "
   ]
  },
  {
   "cell_type": "code",
   "execution_count": 28,
   "metadata": {},
   "outputs": [
    {
     "name": "stdout",
     "output_type": "stream",
     "text": [
      "Executing get_credentials:\n",
      " gcloud container clusters get-credentials kuberlytics\n",
      "Fetching cluster endpoint and auth data.\n",
      "kubeconfig entry generated for kuberlytics.\n",
      "\n"
     ]
    }
   ],
   "source": [
    "#gcloud container clusters get-credentials kuberlytics\n",
    "print(ku.bash_command('get_credentials',cf_g))\n"
   ]
  },
  {
   "cell_type": "code",
   "execution_count": 20,
   "metadata": {},
   "outputs": [
    {
     "name": "stdout",
     "output_type": "stream",
     "text": [
      "Executing kubectl cluster-info:\n",
      " kubectl cluster-info\n",
      "\u001b[0;32mKubernetes master\u001b[0m is running at \u001b[0;33mhttps://35.196.99.23\u001b[0m\n",
      "\u001b[0;32mGLBCDefaultBackend\u001b[0m is running at \u001b[0;33mhttps://35.196.99.23/api/v1/namespaces/kube-system/services/default-http-backend/proxy\u001b[0m\n",
      "\u001b[0;32mHeapster\u001b[0m is running at \u001b[0;33mhttps://35.196.99.23/api/v1/namespaces/kube-system/services/heapster/proxy\u001b[0m\n",
      "\u001b[0;32mKubeDNS\u001b[0m is running at \u001b[0;33mhttps://35.196.99.23/api/v1/namespaces/kube-system/services/kube-dns/proxy\u001b[0m\n",
      "\u001b[0;32mkubernetes-dashboard\u001b[0m is running at \u001b[0;33mhttps://35.196.99.23/api/v1/namespaces/kube-system/services/kubernetes-dashboard/proxy\u001b[0m\n",
      "\n",
      "To further debug and diagnose cluster problems, use 'kubectl cluster-info dump'.\n",
      "\n"
     ]
    }
   ],
   "source": [
    "print(ku.bash_command(\"kubectl cluster-info\"))\n"
   ]
  },
  {
   "cell_type": "markdown",
   "metadata": {},
   "source": [
    "### Helm Installation.  \n",
    "We are going to be utilizing Helm for  installations of a variety of analytics tools.  This command will install Tiller on your cluster.  As they say, \"Happy Helming!\"  "
   ]
  },
  {
   "cell_type": "code",
   "execution_count": 29,
   "metadata": {},
   "outputs": [
    {
     "name": "stdout",
     "output_type": "stream",
     "text": [
      "Executing helm init --upgrade:\n",
      " helm init --upgrade\n",
      "$HELM_HOME has been configured at /Users/jasonkuruzovich/.helm.\n",
      "\n",
      "Tiller (the helm server side component) has been upgraded to the current version.\n",
      "Happy Helming!\n",
      "\n"
     ]
    }
   ],
   "source": [
    "# Provided helm is installed, this will install Tiller on the Cluster.\n",
    "print(ku.bash_command(\"helm init --upgrade\"))"
   ]
  },
  {
   "cell_type": "code",
   "execution_count": 43,
   "metadata": {},
   "outputs": [
    {
     "name": "stdout",
     "output_type": "stream",
     "text": [
      "Executing helm version:\n",
      " helm version\n",
      "Client: &version.Version{SemVer:\"v2.5.0\", GitCommit:\"012cb0ac1a1b2f888144ef5a67b8dab6c2d45be6\", GitTreeState:\"clean\"}\n",
      "Server: &version.Version{SemVer:\"v2.5.0\", GitCommit:\"012cb0ac1a1b2f888144ef5a67b8dab6c2d45be6\", GitTreeState:\"clean\"}\n",
      "\n"
     ]
    }
   ],
   "source": [
    "#give this a few minutes, but it should show a client and a server version. \n",
    "print(ku.bash_command(\"helm version\"))"
   ]
  },
  {
   "cell_type": "markdown",
   "metadata": {},
   "source": [
    "### Enabling Autoscaling (optional)\n",
    "\n",
    "This should launch a pod within your kubernetes cluster that will handle autoscaling of the cluster. Note that this seems to take a while and may even timeout. Consider opening and running in a terminal session. "
   ]
  },
  {
   "cell_type": "code",
   "execution_count": 41,
   "metadata": {},
   "outputs": [
    {
     "name": "stdout",
     "output_type": "stream",
     "text": [
      "Executing gcloud alpha container clusters update kuberlytics --enable-autoscaling --min-nodes=1 --max-nodes=4 --zone=us-east1-b --node-pool=default-pool:\n",
      " gcloud alpha container clusters update kuberlytics --enable-autoscaling --min-nodes=1 --max-nodes=4 --zone=us-east1-b --node-pool=default-pool\n"
     ]
    },
    {
     "data": {
      "text/plain": [
       "'Updating kuberlytics...\\n.................................................................................................................................................................................................................done.\\nUpdated [https://container.googleapis.com/v1/projects/kuberlytics/zones/us-east1-b/clusters/kuberlytics].\\n'"
      ]
     },
     "execution_count": 41,
     "metadata": {},
     "output_type": "execute_result"
    }
   ],
   "source": [
    "ku.bash_command(cf_g['autoscale'])"
   ]
  },
  {
   "cell_type": "markdown",
   "metadata": {},
   "source": [
    "### Fixed IP Address (optional)\n",
    "Often it can be useful to utilize a fixed IP address in order to point a DNS to an applicaiton. \n",
    "\n",
    "[1] global\n",
    " [2] region: asia-east1\n",
    " [3] region: asia-northeast1\n",
    " [4] region: asia-southeast1\n",
    " [5] region: europe-west1\n",
    " [6] region: us-central1\n",
    " [7] region: us-east1\n",
    " [8] region: us-east4\n",
    " [9] region: us-west1"
   ]
  },
  {
   "cell_type": "code",
   "execution_count": null,
   "metadata": {
    "collapsed": true
   },
   "outputs": [],
   "source": [
    "#Reserve a fixed IP (note: you can only do this once.)\n",
    "print(ku.bash_command(cf_g['create_fixedip']))\n"
   ]
  },
  {
   "cell_type": "code",
   "execution_count": 12,
   "metadata": {},
   "outputs": [
    {
     "name": "stdout",
     "output_type": "stream",
     "text": [
      "Executing gcloud compute addresses describe jupyterhub-dojo --region=us-east1:\n",
      " gcloud compute addresses describe jupyterhub-dojo --region=us-east1\n",
      "35.185.85.199\n"
     ]
    }
   ],
   "source": [
    "fixed_ip=ku.get_fixed_ip(cf_g)\n",
    "print(fixed_ip)"
   ]
  },
  {
   "cell_type": "code",
   "execution_count": 13,
   "metadata": {
    "collapsed": true
   },
   "outputs": [],
   "source": [
    "#Write the public IP to the Jupyterhub file.\n",
    "jupyterhub_yaml='../../config/jupyterhub/config.yaml'\n",
    "with open(jupyterhub_yaml, 'r') as j_yaml:\n",
    "    cf_j=ruamel.yaml.round_trip_load(j_yaml, preserve_quotes=True)\n",
    "cf_j['fixed_ip']=fixed_ip\n",
    "ruamel.yaml.round_trip_dump(cf_j, open(jupyterhub_yaml, 'w'))"
   ]
  },
  {
   "cell_type": "markdown",
   "metadata": {},
   "source": [
    "### Kubernetes Web Dashboard\n",
    "The kubernetes web dashboard can be utilized to launch applications. \n",
    "\n",
    "You the user for the dashboard is `admin` and the password can be found using the commands below. Just go ahead to the kubernetes dashbaord now. It is a great place to see the usage of your cluster and other things."
   ]
  },
  {
   "cell_type": "code",
   "execution_count": 4,
   "metadata": {},
   "outputs": [
    {
     "name": "stdout",
     "output_type": "stream",
     "text": [
      "Executing kubectl cluster-info:\n",
      " kubectl cluster-info\n",
      "\u001b[0;32mKubernetes master\u001b[0m is running at \u001b[0;33mhttps://35.196.99.23\u001b[0m\n",
      "\u001b[0;32mGLBCDefaultBackend\u001b[0m is running at \u001b[0;33mhttps://35.196.99.23/api/v1/namespaces/kube-system/services/default-http-backend/proxy\u001b[0m\n",
      "\u001b[0;32mHeapster\u001b[0m is running at \u001b[0;33mhttps://35.196.99.23/api/v1/namespaces/kube-system/services/heapster/proxy\u001b[0m\n",
      "\u001b[0;32mKubeDNS\u001b[0m is running at \u001b[0;33mhttps://35.196.99.23/api/v1/namespaces/kube-system/services/kube-dns/proxy\u001b[0m\n",
      "\u001b[0;32mkubernetes-dashboard\u001b[0m is running at \u001b[0;33mhttps://35.196.99.23/api/v1/namespaces/kube-system/services/kubernetes-dashboard/proxy\u001b[0m\n",
      "\n",
      "To further debug and diagnose cluster problems, use 'kubectl cluster-info dump'.\n",
      "\n",
      "Executing describe_cluster:\n",
      " gcloud container clusters describe kuberlytics\n",
      "['  password: ddRfSjvzwokwQvX6']\n"
     ]
    }
   ],
   "source": [
    "#You can use this to show the Kubernetes Dashboard.\n",
    "result=ku.bash_command(\"kubectl cluster-info\")\n",
    "print(result)\n",
    "result=ku.bash_command('describe_cluster',cf_g)\n",
    "result=result.split(\"\\n\")\n",
    "password=[x for x in result if \"password:\" in x]\n",
    "print (password)"
   ]
  },
  {
   "cell_type": "markdown",
   "metadata": {},
   "source": [
    "#### That is it! You now have your own Kubernetes cluster that is ready to go. "
   ]
  },
  {
   "cell_type": "markdown",
   "metadata": {},
   "source": [
    "### Resize a Cluster\n",
    "To stop a cluster without deleting it you just resize it to 0."
   ]
  },
  {
   "cell_type": "code",
   "execution_count": 48,
   "metadata": {},
   "outputs": [
    {
     "name": "stdout",
     "output_type": "stream",
     "text": [
      "Executing gcloud container clusters resize kuberlytics --size=2 --quiet:\n",
      " gcloud container clusters resize kuberlytics --size=2 --quiet\n"
     ]
    },
    {
     "data": {
      "text/plain": [
       "'Resizing kuberlytics...\\ndone.\\nUpdated [https://container.googleapis.com/v1/projects/kuberlytics/zones/us-east1-b/clusters/kuberlytics].\\n'"
      ]
     },
     "execution_count": 48,
     "metadata": {},
     "output_type": "execute_result"
    }
   ],
   "source": [
    "ku.bash_command(cf_g['class_size_cluster'])"
   ]
  },
  {
   "cell_type": "code",
   "execution_count": 44,
   "metadata": {},
   "outputs": [
    {
     "name": "stdout",
     "output_type": "stream",
     "text": [
      "Executing gcloud container clusters resize kuberlytics --size=0 --quiet:\n",
      " gcloud container clusters resize kuberlytics --size=0 --quiet\n"
     ]
    },
    {
     "data": {
      "text/plain": [
       "'Resizing kuberlytics...\\ndone.\\nUpdated [https://container.googleapis.com/v1/projects/kuberlytics/zones/us-east1-b/clusters/kuberlytics].\\n'"
      ]
     },
     "execution_count": 44,
     "metadata": {},
     "output_type": "execute_result"
    }
   ],
   "source": [
    "ku.bash_command(cf_g['stop_cluster'])"
   ]
  },
  {
   "cell_type": "code",
   "execution_count": 54,
   "metadata": {},
   "outputs": [
    {
     "name": "stdout",
     "output_type": "stream",
     "text": [
      "Executing gcloud container clusters resize kuberlytics --size=1 --quiet:\n",
      " gcloud container clusters resize kuberlytics --size=1 --quiet\n"
     ]
    },
    {
     "data": {
      "text/plain": [
       "'Resizing kuberlytics...\\ndone.\\nUpdated [https://container.googleapis.com/v1/projects/kuberlytics/zones/us-east1-b/clusters/kuberlytics].\\n'"
      ]
     },
     "execution_count": 54,
     "metadata": {},
     "output_type": "execute_result"
    }
   ],
   "source": [
    "ku.bash_command(cf_g['normal_size_cluster'])"
   ]
  },
  {
   "cell_type": "markdown",
   "metadata": {},
   "source": [
    "### Deleting a Kubernetes Cluster\n",
    "\n",
    "# **WARNING: DELETE JUPYTERHUB INSTANCE FIRST \n",
    "Should really put that in the codebase.  If you don't delete the jupyterhub instance and you are using a fixed IP the forwarding rules for the fixed-ip won't be deleted.\n",
    "\n",
    "This will delete the Kubernetes cluster."
   ]
  },
  {
   "cell_type": "code",
   "execution_count": 14,
   "metadata": {},
   "outputs": [
    {
     "name": "stdout",
     "output_type": "stream",
     "text": [
      "Executing delete_cluster:\n",
      " gcloud container clusters delete kuberlytics --zone=us-east1-b --quiet\n",
      "Deleting cluster kuberlytics...\n",
      ".............................................................done.\n",
      "Deleted [https://container.googleapis.com/v1/projects/kuberlytics/zones/us-east1-b/clusters/kuberlytics].\n",
      "\n"
     ]
    }
   ],
   "source": [
    "#Always delete the namespace first. \n",
    "print(ku.bash_command('delete_cluster',cf_g))"
   ]
  },
  {
   "cell_type": "markdown",
   "metadata": {},
   "source": [
    "### Deleting Fixed IP Address"
   ]
  },
  {
   "cell_type": "code",
   "execution_count": null,
   "metadata": {
    "collapsed": true
   },
   "outputs": [],
   "source": [
    "ku.bash_command('delete_fixedip',cf_g)"
   ]
  },
  {
   "cell_type": "code",
   "execution_count": 56,
   "metadata": {},
   "outputs": [
    {
     "name": "stdout",
     "output_type": "stream",
     "text": [
      "Executing describe_fixedip:\n",
      " gcloud compute addresses describe jupyterhub-dojo --region=us-east1\n",
      "address: 35.185.85.199\n",
      "creationTimestamp: '2017-07-09T07:36:35.439-07:00'\n",
      "description: ''\n",
      "id: '1353409085614031260'\n",
      "kind: compute#address\n",
      "name: jupyterhub-dojo\n",
      "region: https://www.googleapis.com/compute/v1/projects/kuberlytics/regions/us-east1\n",
      "selfLink: https://www.googleapis.com/compute/v1/projects/kuberlytics/regions/us-east1/addresses/jupyterhub-dojo\n",
      "status: IN_USE\n",
      "users:\n",
      "- https://www.googleapis.com/compute/v1/projects/kuberlytics/regions/us-east1/forwardingRules/a507e076f966b11e7adad42010a8e001\n",
      "\n"
     ]
    }
   ],
   "source": [
    "print(ku.bash_command('describe_fixedip',cf_g))"
   ]
  },
  {
   "cell_type": "code",
   "execution_count": 13,
   "metadata": {},
   "outputs": [
    {
     "name": "stdout",
     "output_type": "stream",
     "text": [
      "\u001b[1;31mERROR:\u001b[0m (gcloud.compute.forwarding-rules.delete) Underspecified resource [forwarding_rule]. Specify one of the [--global, --region] flags.\r\n"
     ]
    }
   ],
   "source": [
    "!gcloud compute forwarding-rules delete forwarding_rule --quiet\n"
   ]
  },
  {
   "cell_type": "code",
   "execution_count": null,
   "metadata": {
    "collapsed": true
   },
   "outputs": [],
   "source": []
  },
  {
   "cell_type": "code",
   "execution_count": null,
   "metadata": {},
   "outputs": [
    {
     "name": "stdout",
     "output_type": "stream",
     "text": [
      "The following forwarding rules will be deleted:\r\n",
      " - [jupyterhub-dojo] in [us-east1]\r\n",
      "\r\n",
      "Do you want to continue (Y/n)?  "
     ]
    }
   ],
   "source": [
    "!gcloud compute forwarding-rules delete jupyterhub-dojo  --region=us-east1"
   ]
  },
  {
   "cell_type": "code",
   "execution_count": null,
   "metadata": {
    "collapsed": true
   },
   "outputs": [],
   "source": []
  }
 ],
 "metadata": {
  "anaconda-cloud": {},
  "kernelspec": {
   "display_name": "Python [Root]",
   "language": "python",
   "name": "Python [Root]"
  },
  "language_info": {
   "codemirror_mode": {
    "name": "ipython",
    "version": 3
   },
   "file_extension": ".py",
   "mimetype": "text/x-python",
   "name": "python",
   "nbconvert_exporter": "python",
   "pygments_lexer": "ipython3",
   "version": "3.5.2"
  }
 },
 "nbformat": 4,
 "nbformat_minor": 2
}
