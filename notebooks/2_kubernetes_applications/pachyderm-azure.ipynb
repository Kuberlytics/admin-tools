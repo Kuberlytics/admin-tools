{
 "cells": [
  {
   "cell_type": "markdown",
   "metadata": {},
   "source": [
    "## Jupyterhub on Kubernetes\n",
    "\n",
    "This notebook can be used to launch a standard instance of Jupyterhub which includes a proxy server, and an instance of Jupyterhub. \n",
    "\n",
    "Notes on the Server: \n",
    "`/etc/jupyterhub/config` is where the configuration is for jupyterhub. \n",
    "\n"
   ]
  },
  {
   "cell_type": "code",
   "execution_count": null,
   "metadata": {},
   "outputs": [],
   "source": [
    "#This will import some required libraries.\n",
    "import sys \n",
    "import ruamel.yaml \n",
    "#This is your configuration file. \n",
    "general_yaml='../../config/config.yaml'\n",
    "with open(general_yaml, 'r') as yaml:\n",
    "    cf=ruamel.yaml.round_trip_load(yaml, preserve_quotes=True)\n",
    "\n",
    "jupyterhub_yaml='../../config/pachyderm/config.yaml'\n",
    "with open(jupyterhub_yaml, 'r') as j_yaml:\n",
    "    cf_p=ruamel.yaml.round_trip_load(j_yaml, preserve_quotes=True)\n",
    "\n",
    "    #This will allow us to import some useful utilities. \n",
    "if cf['docker']:\n",
    "    cf_p['path']=cf['docker_path']\n",
    "else:\n",
    "    cf_p['path']=cf['local_path']\n",
    "\n",
    "sys.path.append(cf_p['path']+\"/lib/kuberutils\")   \n",
    "import importlib\n",
    "import kuberutils as ku\n",
    "importlib.reload(ku)\n",
    "#This will load common commands for your cluster\n",
    "cf_p=ku.pachyderm_commands(cf_p)\n",
    "print(ruamel.yaml.dump(cf_p, sys.stdout, Dumper=ruamel.yaml.RoundTripDumper))\n",
    "\n",
    "#helm install jupyterhub/jupyterhub \\\n",
    "#    --version=v0.4 \\\n",
    "#    --name=<YOUR-RELEASE-NAME> \\\n",
    "#    --namespace=<YOUR-NAMESPACE> \\\n",
    "#    -f config.yaml"
   ]
  },
  {
   "cell_type": "code",
   "execution_count": null,
   "metadata": {},
   "outputs": [],
   "source": [
    "#For some reason python function doesn't work.   \n",
    "#Need Service \n",
    "!az login"
   ]
  },
  {
   "cell_type": "code",
   "execution_count": null,
   "metadata": {},
   "outputs": [],
   "source": [
    "print(ku.bash_command('install_pachyderm',cf_p))"
   ]
  },
  {
   "cell_type": "code",
   "execution_count": null,
   "metadata": {},
   "outputs": [],
   "source": [
    "print(ku.bash_command('clone',cf_p))"
   ]
  },
  {
   "cell_type": "code",
   "execution_count": null,
   "metadata": {},
   "outputs": [],
   "source": [
    "cf_p['storage_key']=(ku.bash_command('get_storage_key',cf_p))\n",
    "print(cf_p['storage_key'])"
   ]
  },
  {
   "cell_type": "code",
   "execution_count": null,
   "metadata": {},
   "outputs": [],
   "source": [
    "#create_blank_vhd STORAGE_ACCOUNT_NAME STORAGE_ACCOUNT_KEY CONTAINER_NAME VHD_NAME [VHD_SIZE] [--verbose]\n",
    "cf_p['microsoft_vhd']=\"go run /home/jovyan/work/pachyderm/etc/microsoft/create-blank-vhd/create_blank_vhd.go \"+cf_p['storage_account']+\" '\"+cf_p['storage_key']+\"' \"+cf_p['container_name']+\" \"+cf_p['storage_name']+\" \"+str(cf_p['storage_size'])+\"G\"\n",
    "cf_p['ms_blob']= \"az storage blob list --container=\"+cf_p['container_name']+ \" --account-name=\"+cf_p['storage_account']+\" --account-key='\"+cf_p['storage_key']+\"'\"\n"
   ]
  },
  {
   "cell_type": "code",
   "execution_count": null,
   "metadata": {},
   "outputs": [],
   "source": [
    "cf_p['microsoft_vhd']"
   ]
  },
  {
   "cell_type": "code",
   "execution_count": null,
   "metadata": {},
   "outputs": [],
   "source": [
    "cf_p['volume_uri']=ku.bash_command('microsoft_vhd',cf_p)\n",
    "print(cf_p['volume_uri'])"
   ]
  },
  {
   "cell_type": "code",
   "execution_count": null,
   "metadata": {},
   "outputs": [],
   "source": [
    "cf_p['volume_uri']"
   ]
  },
  {
   "cell_type": "code",
   "execution_count": null,
   "metadata": {},
   "outputs": [],
   "source": [
    "cf_p['ms_deploy']= \"pachctl deploy microsoft \"+ cf_p['container_name'] +\" \"+ cf_p['storage_account'] +\" '\"+ cf_p['storage_key']+\"' \"+ str(cf_p['storage_size']) + \" --static-etcd-volume=\"+cf_p['volume_uri']\n",
    "cf_p['ms_deploy']"
   ]
  },
  {
   "cell_type": "code",
   "execution_count": null,
   "metadata": {},
   "outputs": [],
   "source": [
    "ku.bash_command('ms_deploy',cf_p)"
   ]
  },
  {
   "cell_type": "code",
   "execution_count": null,
   "metadata": {},
   "outputs": [],
   "source": [
    "print(ku.bash_command('kubectl get all'))"
   ]
  },
  {
   "cell_type": "code",
   "execution_count": null,
   "metadata": {},
   "outputs": [],
   "source": [
    "print(ku.bash_command('pachctl port-forward &'))"
   ]
  },
  {
   "cell_type": "code",
   "execution_count": null,
   "metadata": {},
   "outputs": [],
   "source": [
    "!pachctl version"
   ]
  },
  {
   "cell_type": "code",
   "execution_count": null,
   "metadata": {},
   "outputs": [],
   "source": [
    "print(ku.bash_command(\"az storage account list | jq '.[].name'\"))"
   ]
  },
  {
   "cell_type": "code",
   "execution_count": null,
   "metadata": {},
   "outputs": [],
   "source": [
    "print(ku.bash_command('blob',cf_p))"
   ]
  },
  {
   "cell_type": "code",
   "execution_count": null,
   "metadata": {},
   "outputs": [],
   "source": [
    "!pachctl create-repo images"
   ]
  },
  {
   "cell_type": "code",
   "execution_count": null,
   "metadata": {
    "collapsed": true
   },
   "outputs": [],
   "source": []
  }
 ],
 "metadata": {
  "anaconda-cloud": {},
  "kernelspec": {
   "display_name": "Python [conda root]",
   "language": "python",
   "name": "conda-root-py"
  },
  "language_info": {
   "codemirror_mode": {
    "name": "ipython",
    "version": 3
   },
   "file_extension": ".py",
   "mimetype": "text/x-python",
   "name": "python",
   "nbconvert_exporter": "python",
   "pygments_lexer": "ipython3",
   "version": "3.6.2"
  }
 },
 "nbformat": 4,
 "nbformat_minor": 2
}
