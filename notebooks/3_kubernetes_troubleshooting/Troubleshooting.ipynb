{
 "cells": [
  {
   "cell_type": "markdown",
   "metadata": {},
   "source": [
    "## Kubernetes Configuration\n",
    "\n",
    "This notebook can be used to configure your Kubernetes Cluster.\n"
   ]
  },
  {
   "cell_type": "code",
   "execution_count": 1,
   "metadata": {},
   "outputs": [
    {
     "name": "stdout",
     "output_type": "stream",
     "text": [
      "rebuild_config: false\n",
      "url: lab.analyticsdojo.com\n",
      "ssl: false\n",
      "email: jkuruzovich@gmail.com    #This is used for letsencrypt\n",
      "namespace: dojo      #Generally the namespace and releasename should be teh same.\n",
      "releasename: dojo\n",
      "fixed_ip: 35.185.85.199\n",
      "set_fixed_ip: true\n",
      "jupyterhub_chart: /Users/jasonkuruzovich/githubdesktop/admin-tools/helm/jupyterhub-v0.4.1.tgz\n",
      "#  jupyterhub_chart: \"https://github.com/jupyterhub/helm-chart/releases/download/v0.4/jupyterhub-v0.4.tgz\"\n",
      "jupyterhub_helm_repo: https://jupyterhub.github.io/helm-chart/\n",
      "jupyterhub_version: v0.4\n",
      "jupyterhub_config_init: https://raw.githubusercontent.com/jupyterhub/helm-chart/master/jupyterhub/values.yaml\n",
      "github_auth:\n",
      "  type: github\n",
      "  github:\n",
      "    clientId: \"e106e1c6e831461a94c2\"\n",
      "    clientSecret: \"e4427fac76d117d1201b509d793f1eccde2c7c83\"\n",
      "    callbackUrl: \"http://lab.analyticsdojo.com/hub/oauth_callback\"\n",
      "google_auth:\n",
      "  type: google\n",
      "  google:\n",
      "    clientId: \"yourlongclientidstring.apps.googleusercontent.com\"\n",
      "    clientSecret: \"adifferentlongstring\"\n",
      "    callbackUrl: \"http://notebooks.kuberlytics.com/hub/oauth_callback\"\n",
      "    hostedDomain: \"youruniversity.edu\"\n",
      "    loginService: \"Your University\"\n",
      "dummy_auth:\n",
      "  type: dummy\n",
      "  dummy:\n",
      "    password: \"dojo\"\n",
      "admin:\n",
      "  access: true\n",
      "  users: ['jkuruzovich', 'jiangl4']\n",
      "singleuser:\n",
      "  image:\n",
      "    name: analyticsdojo/jupyter\n",
      "    tag: 57e832b\n",
      "path: /Users/jasonkuruzovich/githubdesktop/0_class/admin-tools\n",
      "jupyterhub_instance: /Users/jasonkuruzovich/githubdesktop/0_class/admin-tools/config/jupyterhub/dojo\n",
      "jupyterhub_config: /Users/jasonkuruzovich/githubdesktop/0_class/admin-tools/config/jupyterhub/dojo/config.yaml\n",
      "jupyter_base: /Users/jasonkuruzovich/githubdesktop/0_class/admin-tools/config/jupyterhub/dojo/values.yaml\n",
      "install_ssl: helm install --name=letsencrypt --namespace=kube-system stable/kube-lego\n",
      "  --set config.LEGO_EMAIL=jkuruzovich@gmail.com --set config.LEGO_URL=https://acme-v01.api.letsencrypt.org/directory\n",
      "repo_jupyterhub: helm repo add jupyterhub https://jupyterhub.github.io/helm-chart/\n",
      "  && helm repo update\n",
      "install_jupyterhub: helm install jupyterhub/jupyterhub --version=v0.4 --name=dojo\n",
      "  --namespace=dojo -f /Users/jasonkuruzovich/githubdesktop/0_class/admin-tools/config/jupyterhub/dojo/config.yaml\n",
      "upgrade_jupyterhub: helm upgrade dojo jupyterhub/jupyterhub --version=v0.4 -f /Users/jasonkuruzovich/githubdesktop/0_class/admin-tools/config/jupyterhub/dojo/config.yaml\n",
      "describe_jupyterhub: kubectl --namespace=dojo get pod\n",
      "ip_jupyterhub: kubectl --namespace=dojo get svc proxy-public\n",
      "delete_jupyterhub: helm delete dojo --purge\n",
      "delete_namespace: kubectl delete namespace dojo\n",
      "callback_url: http://lab.analyticsdojo.com/hub/oauth_callback\n",
      "get_logs: kubectl --namespace=dojo logs <insert_podname>\n",
      "None\n"
     ]
    }
   ],
   "source": [
    "#This will import some required libraries.\n",
    "import sys \n",
    "import ruamel.yaml \n",
    "#This is your configuration file. \n",
    "general_yaml='../../config/config.yaml'\n",
    "with open(general_yaml, 'r') as yaml:\n",
    "    cf=ruamel.yaml.round_trip_load(yaml, preserve_quotes=True)\n",
    "\n",
    "jupyterhub_yaml='../../config/jupyterhub/config.yaml'\n",
    "with open(jupyterhub_yaml, 'r') as j_yaml:\n",
    "    cf_j=ruamel.yaml.round_trip_load(j_yaml, preserve_quotes=True)\n",
    "\n",
    "    #This will allow us to import some useful utilities. \n",
    "if cf['docker']:\n",
    "    cf_j['path']=cf['docker_path']\n",
    "else:\n",
    "    cf_j['path']=cf['local_path']\n",
    "\n",
    "sys.path.append(cf_j['path']+\"/lib/kuberutils\")   \n",
    "import importlib\n",
    "import kuberutils as ku\n",
    "importlib.reload(ku)\n",
    "#This will load common commands for your cluster\n",
    "cf_j=ku.jupyterhub_commands(cf_j)\n",
    "print(ruamel.yaml.dump(cf_j, sys.stdout, Dumper=ruamel.yaml.RoundTripDumper))\n",
    "\n"
   ]
  },
  {
   "cell_type": "markdown",
   "metadata": {
    "collapsed": true
   },
   "source": [
    "#This loads the core configuration file.  \n",
    "kube_yaml='../../config/jupyterkubernetes.yaml'\n",
    "import ruamel.yaml \n",
    "with open(kube_yaml, 'r') as yaml:\n",
    "    cf=ruamel.yaml.round_trip_load(yaml, preserve_quotes=True)\n",
    "#print(ruamel.yaml.round_trip_dump(cf))\n",
    "\n",
    "#This just creates some additional varaibles. \n",
    "namespace= cf['jupyterhub']['namespace']\n",
    "releasename= cf['jupyterhub']['releasename']\n",
    "jupyterhub_config_init=cf['jupyterhub']['jupyterhub_config_init']\n",
    "jupyterhub_chart=cf['jupyterhub']['jupyterhub_chart']\n",
    "path=\"../../config/\"+namespace\n",
    "jupyterhub_config=path+\"/values.yaml\""
   ]
  },
  {
   "cell_type": "markdown",
   "metadata": {},
   "source": [
    "### Kubernetes Dashboard\n",
    "We can also get some general information about the Kubernetes cluster from the builtin dashboard system. \n",
    "\n",
    "*Cluster Info*:  This will give the public URL of the dashboard.\n",
    "\n",
    "Unless you specified it when creating your cluster, the default user is admin.  To To get the password you will need call the `!gcloud container clusters describe $cluster_name` "
   ]
  },
  {
   "cell_type": "code",
   "execution_count": 2,
   "metadata": {},
   "outputs": [
    {
     "name": "stdout",
     "output_type": "stream",
     "text": [
      "\u001b[0;32mKubernetes master\u001b[0m is running at \u001b[0;33mhttps://35.196.99.23\u001b[0m\n",
      "\u001b[0;32mGLBCDefaultBackend\u001b[0m is running at \u001b[0;33mhttps://35.196.99.23/api/v1/namespaces/kube-system/services/default-http-backend/proxy\u001b[0m\n",
      "\u001b[0;32mHeapster\u001b[0m is running at \u001b[0;33mhttps://35.196.99.23/api/v1/namespaces/kube-system/services/heapster/proxy\u001b[0m\n",
      "\u001b[0;32mKubeDNS\u001b[0m is running at \u001b[0;33mhttps://35.196.99.23/api/v1/namespaces/kube-system/services/kube-dns/proxy\u001b[0m\n",
      "\u001b[0;32mkubernetes-dashboard\u001b[0m is running at \u001b[0;33mhttps://35.196.99.23/api/v1/namespaces/kube-system/services/kubernetes-dashboard/proxy\u001b[0m\n",
      "\n",
      "To further debug and diagnose cluster problems, use 'kubectl cluster-info dump'.\n"
     ]
    }
   ],
   "source": [
    "#You can use this to show the Kubernetes Dashboard.\n",
    "!kubectl cluster-info"
   ]
  },
  {
   "cell_type": "code",
   "execution_count": 3,
   "metadata": {},
   "outputs": [
    {
     "name": "stdout",
     "output_type": "stream",
     "text": [
      "[]\n"
     ]
    }
   ],
   "source": [
    "#This has the cluster username (admin) and password.\n",
    "result=!gcloud container clusters describe $cluster_name\n",
    "password= [x for x in result if \"password:\" in x]\n",
    "print (password)"
   ]
  },
  {
   "cell_type": "markdown",
   "metadata": {},
   "source": [
    "### Kubernetes Nodes\n",
    "Throughout this we have been connecting to the google cloud platform through `gcloud`.  We are now going to shift to the more general `kubectl`. You can see the wide variety of commands with the `kubectl --help` command.  \n",
    "\n",
    "*Nodes*: For Kubernetes, [nodes](https://kubernetes.io/docs/concepts/architecture/nodes/) are worker machines or servers. By issuing the `get nodes` command, we can list our servers.  This command will work whether you are using Kubernetes on Google, Amazon, or Microsoft's Azure Platform. \n",
    "\n",
    "`kubectl get nodes`\n"
   ]
  },
  {
   "cell_type": "code",
   "execution_count": 4,
   "metadata": {},
   "outputs": [
    {
     "name": "stdout",
     "output_type": "stream",
     "text": [
      "NAME                                         STATUS    AGE       VERSION\r\n",
      "gke-kuberlytics-default-pool-3af057b0-rx6q   Ready     1m        v1.6.9\r\n"
     ]
    }
   ],
   "source": [
    "#This should show the nodes\n",
    "!kubectl get nodes"
   ]
  },
  {
   "cell_type": "markdown",
   "metadata": {},
   "source": [
    "### Kubernetes Pods\n",
    "\"A (as in a pod of whales or pea pod) is a group of one or more containers (such as Docker containers), the shared storage for those containers, and options about how to run the containers.\" - [Kubernetes Documentation](https://kubernetes.io/docs/concepts/workloads/pods/pod/#what-is-a-pod)\n",
    "\n",
    "Because the pods are specifically used do designate \"one or more\" containers, you can think of a pod as a single applications. Sometime that application can consist of a single container.  Sometimes it can consist of multiple containers. At times you may want to run all containers from an application together.\n",
    "\n",
    "There are also *system* oriented pods on Kubernetes.  To see all pods, we issue the command:\n",
    "\n",
    "`kubectl get pods --all-namespaces`\n",
    "\n",
    "You should see the DNS, the dashboard, etc. "
   ]
  },
  {
   "cell_type": "code",
   "execution_count": 7,
   "metadata": {},
   "outputs": [
    {
     "name": "stdout",
     "output_type": "stream",
     "text": [
      "NAMESPACE     NAME                                                    READY     STATUS    RESTARTS   AGE\r\n",
      "dojo          hub-deployment-3772845711-3b01j                         1/1       Running   0          13m\r\n",
      "dojo          proxy-deployment-51742714-cd54x                         1/1       Running   0          13m\r\n",
      "dojo          pull--57e832b-1507077133-r4jv7                          1/1       Running   0          2m\r\n",
      "dojo          pull-all-nodes-1507077128-dojo-24-gsmsb                 1/1       Running   0          2m\r\n",
      "kube-system   fluentd-gcp-v2.0-p4h8t                                  2/2       Running   0          9m\r\n",
      "kube-system   heapster-v1.3.0-2959597048-1n3vc                        2/2       Running   0          13m\r\n",
      "kube-system   kube-dns-323615064-lx2xg                                3/3       Running   0          13m\r\n",
      "kube-system   kube-dns-autoscaler-2667913178-s30jx                    1/1       Running   0          13m\r\n",
      "kube-system   kube-proxy-gke-kuberlytics-default-pool-3af057b0-pvb0   1/1       Running   0          5m\r\n",
      "kube-system   kubernetes-dashboard-2917854236-dp7gm                   1/1       Running   0          13m\r\n",
      "kube-system   l7-default-backend-1044750973-d082q                     1/1       Running   0          13m\r\n",
      "kube-system   tiller-deploy-3703072393-4mf62                          1/1       Running   0          13m\r\n"
     ]
    }
   ],
   "source": [
    "#This should just initially show the pods associated with Kubernetes system. \n",
    "!kubectl get pods --all-namespaces"
   ]
  },
  {
   "cell_type": "markdown",
   "metadata": {},
   "source": [
    "### Bash into a Container.\n"
   ]
  },
  {
   "cell_type": "code",
   "execution_count": 7,
   "metadata": {},
   "outputs": [
    {
     "name": "stdout",
     "output_type": "stream",
     "text": [
      "kubectl --namespace= exec -it hub-deployment-1769082537-1zs0h -- /bin/bash\r\n"
     ]
    }
   ],
   "source": [
    "!echo kubectl --namespace=$namespace exec -it hub-deployment-1769082537-1zs0h  -- /bin/bash"
   ]
  },
  {
   "cell_type": "code",
   "execution_count": null,
   "metadata": {
    "collapsed": true
   },
   "outputs": [],
   "source": [
    "!kubectl --namespace= exec -it hub-deployment-1769082537-1zs0h -- /bin/bash"
   ]
  },
  {
   "cell_type": "markdown",
   "metadata": {},
   "source": [
    "### Kubernetes Services\n",
    "\n",
    "\"A Kubernetes Service is an abstraction which defines a logical set of Pods and a policy by which to access them - sometimes called a micro-service.\" \n",
    "- [Kubernetes Documentation](https://kubernetes.io/docs/concepts/services-networking/service/)\n",
    "\n",
    "Pods are temporary, and can launch or die.  Services help applications keep track of a pod's location"
   ]
  },
  {
   "cell_type": "code",
   "execution_count": null,
   "metadata": {
    "collapsed": true
   },
   "outputs": [],
   "source": [
    "#This will show across all namespaces\n",
    "!!kubectl get services --all-namespaces"
   ]
  },
  {
   "cell_type": "code",
   "execution_count": null,
   "metadata": {
    "collapsed": true
   },
   "outputs": [],
   "source": [
    "#This will get the external IP address\n",
    "!kubectl --namespace=$namespace get svc proxy-public"
   ]
  },
  {
   "cell_type": "code",
   "execution_count": null,
   "metadata": {
    "collapsed": true
   },
   "outputs": [],
   "source": [
    "#This will show all services\n",
    "!kubectl get services --all-namespaces"
   ]
  },
  {
   "cell_type": "code",
   "execution_count": null,
   "metadata": {
    "collapsed": true
   },
   "outputs": [],
   "source": [
    "#This could potentially enable autoscaling\n",
    "!gcloud alpha container clusters update $cluster_name --enable-autoscaling --min-nodes=$num_nodes --max-nodes=$max_nodes --zone=$zone --node-pool=default-pool"
   ]
  },
  {
   "cell_type": "code",
   "execution_count": null,
   "metadata": {
    "collapsed": true
   },
   "outputs": [],
   "source": [
    "#This will resize a container to a different number of nodes.\n",
    "!gcloud container clusters resize $cluster_name --size 1 --quiet\n"
   ]
  },
  {
   "cell_type": "code",
   "execution_count": null,
   "metadata": {
    "collapsed": true
   },
   "outputs": [],
   "source": [
    "#This will change the singleuser container\n",
    "with open(config_jupyter, 'r') as yaml:\n",
    "    data=ruamel.yaml.round_trip_load(yaml)\n",
    "data['singleuser']['image']['name']=\"berkeleydsep/singleuser-data8\"\n",
    "data['singleuser']['image']['tag']=\"v0.1\"\n",
    "ruamel.yaml.round_trip_dump(data, open(config_jupyter, 'w'))"
   ]
  },
  {
   "cell_type": "code",
   "execution_count": null,
   "metadata": {
    "collapsed": true
   },
   "outputs": [],
   "source": [
    "#Updating the release to included \n",
    "!helm upgrade $releasename $jupyterhubchart -f $config_jupyter"
   ]
  },
  {
   "cell_type": "code",
   "execution_count": null,
   "metadata": {
    "collapsed": true
   },
   "outputs": [],
   "source": [
    "#This lists the pods. \n",
    "!kubectl --namespace=$namespace get pod"
   ]
  }
 ],
 "metadata": {
  "kernelspec": {
   "display_name": "Python [Root]",
   "language": "python",
   "name": "Python [Root]"
  },
  "language_info": {
   "codemirror_mode": {
    "name": "ipython",
    "version": 3
   },
   "file_extension": ".py",
   "mimetype": "text/x-python",
   "name": "python",
   "nbconvert_exporter": "python",
   "pygments_lexer": "ipython3",
   "version": "3.5.2"
  }
 },
 "nbformat": 4,
 "nbformat_minor": 2
}
