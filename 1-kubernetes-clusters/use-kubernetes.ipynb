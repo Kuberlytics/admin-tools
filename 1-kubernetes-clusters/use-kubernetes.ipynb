{
 "cells": [
  {
   "cell_type": "markdown",
   "metadata": {},
   "source": [
    "## Retreive Configuration\n",
    "This is to retreive the configuration. Set this equal to the clustername that you want to use. \n"
   ]
  },
  {
   "cell_type": "code",
   "execution_count": null,
   "metadata": {
    "collapsed": true
   },
   "outputs": [],
   "source": [
    "cf = dict()\n",
    "cf['cloud_provider']='azure'      #azure of google\n",
    "cf['project_name']='kuberlytics'  #Must be globally unique.\n",
    "cf['restore_config']=True   #Only True for existing or previous cluster   \n",
    "cf['cluster_name']='kuberlytics'         #Only use if restore_config==True\n",
    "cf['config_file']='config/config.yaml'  #The configuration will be overwritten if retreived.\n",
    "cf['path']='/home/jovyan/launch/'  #Path to admintools repository\n",
    "cf['ssh_dir']='/home/jovyan/.ssh/'      #ssh directory"
   ]
  },
  {
   "cell_type": "markdown",
   "metadata": {},
   "source": [
    "### Load the Config File and Helpers \n",
    "Set the `config` file and the `path` and then run the code below.  This will load some helper files. "
   ]
  },
  {
   "cell_type": "code",
   "execution_count": null,
   "metadata": {},
   "outputs": [],
   "source": [
    "import sys \n",
    "import importlib\n",
    "import ruamel.yaml\n",
    "sys.path.append(cf['path']+\"lib/kuberutils\") #Adds a local library path.\n",
    "import kuberutils as ku   #This imports some utilities.\n",
    "importlib.reload(ku)      #This just reloads the utilities.\n",
    "cf=ku.initialize(cf)  #This initializes a configuration object."
   ]
  },
  {
   "cell_type": "code",
   "execution_count": null,
   "metadata": {},
   "outputs": [],
   "source": [
    "#gcloud container clusters get-credentials kuberlytics\n",
    "print(ku.bash_command('get_credentials',cf))\n",
    "\n"
   ]
  },
  {
   "cell_type": "markdown",
   "metadata": {},
   "source": [
    "### That is it! You now have your own Kubernetes cluster that is ready to be controlled using kubectrl. \n",
    "\n",
    "You can open a terminal session from the main jupyter notebook or issue commands right here. \n",
    "\n",
    "Adding an exclimation point issues the command. \n",
    "```\n",
    "!kubectl config current-context\n",
    "```"
   ]
  },
  {
   "cell_type": "code",
   "execution_count": null,
   "metadata": {},
   "outputs": [],
   "source": [
    "!kubectl config current-context"
   ]
  },
  {
   "cell_type": "code",
   "execution_count": null,
   "metadata": {},
   "outputs": [],
   "source": [
    "print(ku.bash_command('kubectl get pods --all-namespaces'))"
   ]
  },
  {
   "cell_type": "code",
   "execution_count": null,
   "metadata": {
    "collapsed": true
   },
   "outputs": [],
   "source": [
    "#When finished, you might want to backup any changes you made to config."
   ]
  },
  {
   "cell_type": "code",
   "execution_count": null,
   "metadata": {
    "collapsed": true
   },
   "outputs": [],
   "source": [
    "print(ku.backup_kube(cf))"
   ]
  }
 ],
 "metadata": {
  "anaconda-cloud": {},
  "kernelspec": {
   "display_name": "Python 3",
   "language": "python",
   "name": "python3"
  },
  "language_info": {
   "codemirror_mode": {
    "name": "ipython",
    "version": 3
   },
   "file_extension": ".py",
   "mimetype": "text/x-python",
   "name": "python",
   "nbconvert_exporter": "python",
   "pygments_lexer": "ipython3",
   "version": "3.6.2"
  }
 },
 "nbformat": 4,
 "nbformat_minor": 2
}
