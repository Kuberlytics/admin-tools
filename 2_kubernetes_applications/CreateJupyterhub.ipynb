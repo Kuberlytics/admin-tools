{
 "cells": [
  {
   "cell_type": "markdown",
   "metadata": {},
   "source": [
    "## Jupyterhub on Kubernetes\n",
    "\n",
    "This notebook can be used to launch a standard instance of Jupyterhub which includes a proxy server, and an instance of Jupyterhub. \n",
    "\n",
    "Notes on the Server: \n",
    "`/etc/jupyterhub/config` is where the configuration is for jupyterhub. \n",
    "\n"
   ]
  },
  {
   "cell_type": "code",
   "execution_count": 2,
   "metadata": {
    "collapsed": true
   },
   "outputs": [],
   "source": [
    "import sys \n",
    "import importlib\n",
    "import ruamel.yaml\n",
    "config_file='config/config.yaml'  #The configuration value set above.\n",
    "path='/home/jovyan/work/admin-tools/' #Update this value if running locally.\n",
    "sys.path.append(path+\"lib/kuberutils\") #Adds a local library path.\n",
    "import kuberutils as ku   #This imports some utilities.\n",
    "importlib.reload(ku)      #This just reloads the utilities.\n",
    "cf=ku.initialize(path,config_file)  #This initializes a configuration object."
   ]
  },
  {
   "cell_type": "markdown",
   "metadata": {},
   "source": [
    "### Print Configuration\n",
    "Optionally you can print the configuration and common commands for your desired cluster. You can use this as a reference and copy and paste into the terminal."
   ]
  },
  {
   "cell_type": "code",
   "execution_count": 3,
   "metadata": {},
   "outputs": [
    {
     "name": "stdout",
     "output_type": "stream",
     "text": [
      "#Where are you running notebooks? This is used for path.\n",
      "docker: true     #True if executing on the Kuberlytics Docker Stack.\n",
      "docker_path: /home/jovyan/work/admin-tools      #This should not change.\n",
      "local_path: /Users/jasonkuruzovich/githubdesktop/0_class/admin-tools #This is the local path\n",
      "cloud_provider: azure   #google or azure\n",
      "#Start of Google Specific Configuration\n",
      "g_project: kuberlytics             #Google project name\n",
      "g_cluster_name: kuberlytics        #Name of your Google Cluster\n",
      "g_region: us-east1                 #Selection from gcloud compute regions list.\n",
      "g_zone: us-east1-b                  #Selection from gcloud compute regions list.\n",
      "g_machine_type: n1-highmem-4        #Type of Server\n",
      "g_account: jkuruzovich@gmail.com    #Email Associated with the account.\n",
      "g_authorization_file: auth.json     #Service account authorization file.\n",
      "g_service_account_name: kuberlytics2  #Service account name.\n",
      "g_fixedip_namespace: jupyterhub-dojo\n",
      "g_num_nodes: 1                      #The default number of nodes (servers)\n",
      "g_num_nodes_class: 3\n",
      "g_max_nodes: 4\n",
      "#Start of Azure Configuration\n",
      "a_resource_group: kubeastus2rpi     #Resource groups are used to separate projects.\n",
      "a_cluster_name: kubeastus2rpi         #Name your cluster whatever you like.\n",
      "a_location: eastus2                 #Selection from `az account list-locations`.\n",
      "a_dns_prefix: kubeastus2rpi          #Selection from gcloud compute regions list.\n",
      "a_machine_type: Standard_D3_v2        #Type of Server https://docs.microsoft.com/en-us/azure/cloud-services/cloud-services-sizes-specs\n",
      "a_num_nodes: 1                      #The default number of nodes (servers)\n",
      "a_num_nodes_class: 3\n",
      "a_max_nodes: 4\n",
      "a_storage_account: pach          #For use with Pachyderm\n",
      "a_container_name: pach           #For use with Pachyderm\n",
      "a_storage_name: pach2-disk.vhd   #For use with Pachyderm\n",
      "a_storage_size: 1                #For use with Pachyderm Storage account size in GB.\n",
      "\n",
      "#Start of Azure Configuration\n",
      "jup_rebuild_config: true  #if true will rebuild config file.\n",
      "jup_url: lab.analyticsdojo.com\n",
      "jup_ssl: false\n",
      "jup_email: jkuruzovich@gmail.com    #This is used for letsencrypt\n",
      "jup_namespace: dojo      #Generally the namespace and releasename should be teh same.\n",
      "jup_releasename: dojo\n",
      "jup_fixed_ip: 35.185.85.199\n",
      "jup_set_fixed_ip: false\n",
      "jup_chart: /Users/jasonkuruzovich/githubdesktop/admin-tools/helm/jupyterhub-v0.4.1.tgz\n",
      "jup_helm_repo: https://jupyterhub.github.io/helm-chart/\n",
      "jup_version: v0.4\n",
      "jup_config_init: https://raw.githubusercontent.com/jupyterhub/zero-to-jupyterhub-k8s/master/jupyterhub/values.yaml\n",
      "jup_github_auth:\n",
      "  type: github\n",
      "  github:\n",
      "    clientId: \"e106e1c6e831461a94c2\"\n",
      "    clientSecret: \"e4427fac76d117d1201b509d793f1eccde2c7c83\"\n",
      "    callbackUrl: \"http://lab.analyticsdojo.com/hub/oauth_callback\"\n",
      "jup_google_auth:\n",
      "  type: google\n",
      "  google:\n",
      "    clientId: \"yourlongclientidstring.apps.googleusercontent.com\"\n",
      "    clientSecret: \"adifferentlongstring\"\n",
      "    callbackUrl: \"http://notebooks.kuberlytics.com/hub/oauth_callback\"\n",
      "    hostedDomain: \"youruniversity.edu\"\n",
      "    loginService: \"Your University\"\n",
      "jup_dummy_auth:\n",
      "  type: dummy\n",
      "  dummy:\n",
      "    password: \"dojo\"\n",
      "jup_admin:\n",
      "  access: true\n",
      "  users: ['jkuruzovich', 'jiangl4']\n",
      "jup_singleuser:\n",
      "  image:\n",
      "    name: analyticsdojo/jupyter\n",
      "    tag: 53bf009\n",
      "jup_prePuller:\n",
      "  enabled: false\n",
      "path: /home/jovyan/work/admin-tools/\n",
      "config_file: config/config.yaml\n",
      "web_login: az login\n",
      "login: echo 'Service account login not yet available for Azure'\n",
      "create_project: az group create --name=kubeastus2rpi --location=eastus2\n",
      "set_project: echo 'No need to set project in Azure.'\n",
      "set_zone: echo 'No need to set project in Azure.'\n",
      "delete_project: az group delete --name=kubeastus2rpi --yes --no-wait\n",
      "list-locations: az account list-locations\n",
      "create_cluster: az acs create --orchestrator-type=kubernetes --resource-group=kubeastus2rpi\n",
      "  --name=kubeastus2rpi --dns-prefix=kubeastus2rpi --agent-count=1 --agent-vm-size=Standard_D3_v2\n",
      "  --generate-ssh-keys --no-wait\n",
      "describe_cluster: az acs list  --resource-group=kubeastus2rpi\n",
      "autoscale: echo 'Autoscaling currently not possible.'\n",
      "create_cluster_aks: az acs create --orchestrator-type=kubernetes --resource-group=kubeastus2rpi\n",
      "  --name=kubeastus2rpi --dns-prefix=kubeastus2rpi --agent-count=1 --agent-vm-size=Standard_D3_v2\n",
      "  --generate-ssh-keys --no-wait\n",
      "describe_cluster_aks: az acs list  --resource-group=kubeastus2rpi\n",
      "delete_cluster: az acs delete  --resource-group=kubeastus2rpi --name=kubeastus2rpi\n",
      "  --no-wait\n",
      "get_credentials: az acs kubernetes get-credentials --resource-group=kubeastus2rpi\n",
      "  --name=kubeastus2rpi\n",
      "install_helm: helm init --client-only\n",
      "a_normal_size_cluster: az acs scale --resource-group=kubeastus2rpi --name=kubeastus2rpi\n",
      "  --new-agent-count 1\n",
      "a_class_size_cluster: az acs scale --resource-group=kubeastus2rpi --name=kubeastus2rpi\n",
      "  --new-agent-count 3\n",
      "a_create_storage: az storage account create --resource-group=kubeastus2rpi --location=eastus2\n",
      "  --sku=Standard_LRS  --name=pach --kind=Storage\n",
      "a_get_storage_key: az storage account keys list --account-name=pach --resource-group=kubeastus2rpi\n",
      "  --output=json | jq .[0].value -r\n",
      "jup_instance: /home/jovyan/work/admin-tools/config/jupyterhub/dojo\n",
      "jup_config: /home/jovyan/work/admin-tools/config/jupyterhub/dojo/config.yaml\n",
      "jup_base: /home/jovyan/work/admin-tools/config/jupyterhub/dojo/values.yaml\n",
      "jup_install_ssl: helm install --name=letsencrypt --namespace=kube-system stable/kube-lego\n",
      "  --set config.LEGO_EMAIL=jkuruzovich@gmail.com --set config.LEGO_URL=https://acme-v01.api.letsencrypt.org/directory\n",
      "jup_repo: helm repo add jupyterhub https://jupyterhub.github.io/helm-chart/ && helm\n",
      "  repo update\n",
      "jup_install: helm install jupyterhub/jupyterhub --version=v0.4 --name=dojo --namespace=dojo\n",
      "  -f /home/jovyan/work/admin-tools/config/jupyterhub/dojo/config.yaml\n",
      "jup_upgrade: helm upgrade dojo jupyterhub/jupyterhub --version=v0.4 -f /home/jovyan/work/admin-tools/config/jupyterhub/dojo/config.yaml\n",
      "jup_describe: kubectl --namespace=dojo get pod\n",
      "jup_get_ip: kubectl --namespace=dojo get svc proxy-public\n",
      "jup_delete_instance: helm delete dojo --purge\n",
      "jup_delete_namespace: kubectl delete namespace dojo\n",
      "jup_callback_url: http://lab.analyticsdojo.com/hub/oauth_callback\n",
      "jup_get_logs: kubectl --namespace=dojo logs <insert_podname>\n",
      "which_cluster: kubectl config current-context\n",
      "clone_pachyderm: git clone https://github.com/pachyderm/pachyderm /home/jovyan/work/pachyderm\n",
      "None\n"
     ]
    }
   ],
   "source": [
    "#This will print common commands for your clustl\n",
    "print(ruamel.yaml.dump(cf, sys.stdout, Dumper=ruamel.yaml.RoundTripDumper))"
   ]
  },
  {
   "cell_type": "markdown",
   "metadata": {},
   "source": [
    "### Set Jupyterhub Config\n",
    "This will setup a basic configuration file for installing Jupyterhub. "
   ]
  },
  {
   "cell_type": "code",
   "execution_count": 4,
   "metadata": {},
   "outputs": [
    {
     "name": "stdout",
     "output_type": "stream",
     "text": [
      "Executing rm -rf /home/jovyan/work/admin-tools/config/jupyterhub/dojo:\n",
      " rm -rf /home/jovyan/work/admin-tools/config/jupyterhub/dojo\n",
      "Executing mkdir /home/jovyan/work/admin-tools/config/jupyterhub/dojo:\n",
      " mkdir /home/jovyan/work/admin-tools/config/jupyterhub/dojo\n",
      "Executing openssl rand -hex 32 > /home/jovyan/work/admin-tools/config/jupyterhub/dojo/cookie_secret.txt:\n",
      " openssl rand -hex 32 > /home/jovyan/work/admin-tools/config/jupyterhub/dojo/cookie_secret.txt\n",
      "Executing openssl rand -hex 32 > /home/jovyan/work/admin-tools/config/jupyterhub/dojo/secret_token.txt:\n",
      " openssl rand -hex 32 > /home/jovyan/work/admin-tools/config/jupyterhub/dojo/secret_token.txt\n",
      "Executing wget -P /home/jovyan/work/admin-tools/config/jupyterhub/dojo https://raw.githubusercontent.com/jupyterhub/zero-to-jupyterhub-k8s/master/jupyterhub/values.yaml:\n",
      " wget -P /home/jovyan/work/admin-tools/config/jupyterhub/dojo https://raw.githubusercontent.com/jupyterhub/zero-to-jupyterhub-k8s/master/jupyterhub/values.yaml\n",
      "Executing mv /home/jovyan/work/admin-tools/config/jupyterhub/dojo/values.yaml /home/jovyan/work/admin-tools/config/jupyterhub/dojo/reference.yaml:\n",
      " mv /home/jovyan/work/admin-tools/config/jupyterhub/dojo/values.yaml /home/jovyan/work/admin-tools/config/jupyterhub/dojo/reference.yaml\n"
     ]
    }
   ],
   "source": [
    "ku.set_jupyterhub_config(cf)"
   ]
  },
  {
   "cell_type": "markdown",
   "metadata": {},
   "source": [
    "## PLEASE TAKE A MINUTE TO UPDATE YOUR CONFIG FILE.\n",
    "\n",
    "If you will be keeping this instance for a while, update your config/config.yaml file so that you don't. \n",
    "\n",
    "```\n",
    "#Start of Azure Configuration\n",
    "jup_rebuild_config: false\n",
    "\n",
    "```\n",
    "\n"
   ]
  },
  {
   "cell_type": "markdown",
   "metadata": {},
   "source": [
    "## Download Helm Repo"
   ]
  },
  {
   "cell_type": "code",
   "execution_count": 5,
   "metadata": {},
   "outputs": [
    {
     "name": "stdout",
     "output_type": "stream",
     "text": [
      "Executing jup_repo:\n",
      " helm repo add jupyterhub https://jupyterhub.github.io/helm-chart/ && helm repo update\n",
      "\"jupyterhub\" has been added to your repositories\n",
      "Hang tight while we grab the latest from your chart repositories...\n",
      "...Skip local chart repository\n",
      "...Successfully got an update from the \"jupyterhub\" chart repository\n",
      "...Successfully got an update from the \"stable\" chart repository\n",
      "Update Complete. ⎈ Happy Helming!⎈ \n",
      "\n"
     ]
    }
   ],
   "source": [
    "#Add the jupyterhub repo.\n",
    "print(ku.bash_command('jup_repo',cf))"
   ]
  },
  {
   "cell_type": "code",
   "execution_count": 16,
   "metadata": {},
   "outputs": [
    {
     "name": "stdout",
     "output_type": "stream",
     "text": [
      "Executing jup_install:\n",
      " helm install jupyterhub/jupyterhub --version=v0.5.0-e154ab7 --name=dojo --namespace=dojo -f /home/jovyan/work/admin-tools/config/jupyterhub/dojo/config.yaml\n",
      "NAME:   dojo\n",
      "LAST DEPLOYED: Sat Nov  4 02:43:12 2017\n",
      "NAMESPACE: dojo\n",
      "STATUS: DEPLOYED\n",
      "\n",
      "RESOURCES:\n",
      "==> v1/Secret\n",
      "NAME        TYPE    DATA  AGE\n",
      "hub-secret  Opaque  2     11s\n",
      "\n",
      "==> v1/ConfigMap\n",
      "NAME        DATA  AGE\n",
      "hub-config  21    11s\n",
      "\n",
      "==> v1/PersistentVolumeClaim\n",
      "NAME        STATUS   VOLUME   CAPACITY  ACCESSMODES  STORAGECLASS  AGE\n",
      "hub-db-dir  Pending  default  11s\n",
      "\n",
      "==> v1/Service\n",
      "NAME          CLUSTER-IP    EXTERNAL-IP  PORT(S)                     AGE\n",
      "hub           10.0.187.205  <none>       8081/TCP                    11s\n",
      "proxy-public  10.0.218.111  <pending>    80:32374/TCP,443:31489/TCP  10s\n",
      "proxy-api     10.0.171.219  <none>       8001/TCP                    10s\n",
      "proxy-http    10.0.239.229  <none>       8000/TCP                    10s\n",
      "\n",
      "==> v1beta1/Deployment\n",
      "NAME            DESIRED  CURRENT  UP-TO-DATE  AVAILABLE  AGE\n",
      "hub-deployment  1        1        1           0          10s\n",
      "proxy           1        1        1           0          10s\n",
      "\n",
      "\n",
      "NOTES:\n",
      "Thank you for installing JupyterHub!\n",
      "\n",
      "Your release is named dojo and installed into the namespace dojo.\n",
      "\n",
      "You can find if the hub and proxy is ready by doing:\n",
      "\n",
      " kubectl --namespace=dojo get pod\n",
      "\n",
      "and watching for both those pods to be in status 'Ready'.\n",
      "\n",
      "You can find the public IP of the JupyterHub by doing:\n",
      "\n",
      " kubectl --namespace=dojo get svc proxy-public\n",
      "\n",
      "It might take a few minutes for it to appear!\n",
      "\n",
      "Note that this is still an alpha release! If you have questions, feel free to\n",
      "  1. Come chat with us at https://gitter.im/jupyterhub/jupyterhub\n",
      "  2. File issues at https://github.com/jupyterhub/zero-to-jupyterhub-k8s/issues\n",
      "\n",
      "\n"
     ]
    }
   ],
   "source": [
    "#This will install the jupyterhub instance.\n",
    "print(ku.bash_command('jup_install',cf))"
   ]
  },
  {
   "cell_type": "code",
   "execution_count": 17,
   "metadata": {},
   "outputs": [
    {
     "name": "stdout",
     "output_type": "stream",
     "text": [
      "Executing jup_describe:\n",
      " kubectl --namespace=dojo get pod\n",
      "NAME                              READY     STATUS    RESTARTS   AGE\n",
      "hub-deployment-2807160951-prbf0   0/1       Pending   0          36s\n",
      "proxy-2306483264-b98mj            2/2       Running   0          36s\n",
      "\n"
     ]
    }
   ],
   "source": [
    "#This will check on the status of Jupyterhub.\n",
    "print(ku.bash_command('jup_describe', cf))"
   ]
  },
  {
   "cell_type": "code",
   "execution_count": 21,
   "metadata": {},
   "outputs": [
    {
     "name": "stdout",
     "output_type": "stream",
     "text": [
      "Executing jup_get_ip:\n",
      " kubectl --namespace=dojo get svc proxy-public\n"
     ]
    },
    {
     "data": {
      "text/plain": [
       "'NAME           TYPE           CLUSTER-IP     EXTERNAL-IP     PORT(S)                      AGE\\nproxy-public   LoadBalancer   10.0.218.111   40.123.45.141   80:32374/TCP,443:31489/TCP   20m\\n'"
      ]
     },
     "execution_count": 21,
     "metadata": {},
     "output_type": "execute_result"
    }
   ],
   "source": [
    "#Get the ip/url. \n",
    "#cf=ku.get_jupyterhub_ip(cf)\n",
    "ku.bash_command('jup_get_ip',cf)"
   ]
  },
  {
   "cell_type": "markdown",
   "metadata": {},
   "source": [
    "## Update Authorization\n",
    "When just starting out, the default configuration launches with no password.  While there is still a username and login screen, \n"
   ]
  },
  {
   "cell_type": "code",
   "execution_count": 11,
   "metadata": {
    "collapsed": true
   },
   "outputs": [],
   "source": [
    "#This is how we set the authororization\n",
    "#ku.update_config('auth','jup_github_auth', cf)\n",
    "#ku.update_config('auth','jup_google_auth', cf)\n",
    "ku.update_config('auth','jup_dummy_auth', cf)\n"
   ]
  },
  {
   "cell_type": "code",
   "execution_count": 12,
   "metadata": {
    "collapsed": true
   },
   "outputs": [],
   "source": [
    "#Add Administrators\n",
    "ku.update_config('admin','jup_admin', cf)"
   ]
  },
  {
   "cell_type": "markdown",
   "metadata": {},
   "source": [
    "### Update the Singleuser Container\n",
    "This can allow you to utilize a different container. \n"
   ]
  },
  {
   "cell_type": "code",
   "execution_count": 13,
   "metadata": {
    "collapsed": true
   },
   "outputs": [],
   "source": [
    "ku.update_config('singleuser','jup_singleuser', cf)"
   ]
  },
  {
   "cell_type": "code",
   "execution_count": null,
   "metadata": {},
   "outputs": [
    {
     "name": "stdout",
     "output_type": "stream",
     "text": [
      "Executing jup_upgrade:\n",
      " helm upgrade dojo jupyterhub/jupyterhub --version=v0.5.0-e154ab7 -f /home/jovyan/work/admin-tools/config/jupyterhub/dojo/config.yaml\n"
     ]
    }
   ],
   "source": [
    "#Upgrading Jupyterhub \n",
    "print(ku.bash_command('jup_upgrade',cf))"
   ]
  },
  {
   "cell_type": "markdown",
   "metadata": {},
   "source": [
    "Adding SSL Support via Let's Encrypt\n",
    "helm repo update \n",
    "helm install --name=letsencrypt --namespace=kube-system stable/kube-lego \\\n",
    "             --set config.LEGO_EMAIL=<your-email> \\\n",
    "             --set config.LEGO_URL=https://acme-v01.api.letsencrypt.org/directory"
   ]
  },
  {
   "cell_type": "markdown",
   "metadata": {},
   "source": [
    "## Cleanup the Installation\n",
    "This will cleanup the installation, deleting the instance of Jupyterhub."
   ]
  },
  {
   "cell_type": "code",
   "execution_count": 12,
   "metadata": {},
   "outputs": [
    {
     "name": "stdout",
     "output_type": "stream",
     "text": [
      "Executing jup_delete_instance:\n",
      " helm delete dojo --purge\n",
      "release \"dojo\" deleted\n",
      "\n"
     ]
    }
   ],
   "source": [
    "#Delete Jupyterhub with Helm.\n",
    "print(ku.bash_command('jup_delete_instance',cf))"
   ]
  },
  {
   "cell_type": "code",
   "execution_count": 14,
   "metadata": {},
   "outputs": [
    {
     "name": "stdout",
     "output_type": "stream",
     "text": [
      "Executing jup_delete_namespace:\n",
      " kubectl delete namespace dojo\n",
      "Error from server (Conflict): Operation cannot be fulfilled on namespaces \"dojo\": The system is ensuring all content is removed from this namespace.  Upon completion, this namespace will automatically be purged by the system.\n",
      "\n"
     ]
    }
   ],
   "source": [
    "#Delete Jupyterhub with Helm.\n",
    "print(ku.bash_command('jup_delete_namespace',cf))"
   ]
  },
  {
   "cell_type": "code",
   "execution_count": null,
   "metadata": {
    "collapsed": true
   },
   "outputs": [],
   "source": []
  }
 ],
 "metadata": {
  "anaconda-cloud": {},
  "kernelspec": {
   "display_name": "Python [conda root]",
   "language": "python",
   "name": "conda-root-py"
  },
  "language_info": {
   "codemirror_mode": {
    "name": "ipython",
    "version": 3
   },
   "file_extension": ".py",
   "mimetype": "text/x-python",
   "name": "python",
   "nbconvert_exporter": "python",
   "pygments_lexer": "ipython3",
   "version": "3.6.2"
  }
 },
 "nbformat": 4,
 "nbformat_minor": 2
}
