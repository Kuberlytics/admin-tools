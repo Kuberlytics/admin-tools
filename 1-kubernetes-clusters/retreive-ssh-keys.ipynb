{
 "cells": [
  {
   "cell_type": "markdown",
   "metadata": {},
   "source": [
    "## Retreive SSH Keys\n",
    "\n",
    "This is to retreive ssh keys for use locally. \n"
   ]
  },
  {
   "cell_type": "markdown",
   "metadata": {},
   "source": [
    "### Load the Config File and Helpers \n",
    "Set the `config` file and the `path` and then run the code below.  This will load some helper files. "
   ]
  },
  {
   "cell_type": "code",
   "execution_count": 6,
   "metadata": {
    "collapsed": true
   },
   "outputs": [],
   "source": [
    "import sys \n",
    "import importlib\n",
    "import ruamel.yaml\n",
    "import json\n",
    "config_file='config/config.yaml'  #The configuration value set above.\n",
    "path='/home/jovyan/admin-tools/' #Update this value if running locally.\n",
    "sys.path.append(path+\"lib/kuberutils\") #Adds a local library path.\n",
    "import kuberutils as ku   #This imports some utilities.\n",
    "importlib.reload(ku)      #This just reloads the utilities.\n",
    "cf=ku.initialize(path,config_file)  #This initializes a configuration object."
   ]
  },
  {
   "cell_type": "code",
   "execution_count": null,
   "metadata": {
    "collapsed": true
   },
   "outputs": [],
   "source": [
    "!az login"
   ]
  },
  {
   "cell_type": "code",
   "execution_count": 8,
   "metadata": {},
   "outputs": [
    {
     "name": "stdout",
     "output_type": "stream",
     "text": [
      "Executing get_public_key:\n",
      " az keyvault secret show --vault-name=kubeastus2rpi --name=idrsa-pub \n"
     ]
    }
   ],
   "source": [
    "#Pull the publickey.\n",
    "publickey=json.loads(ku.bash_command('get_public_key',cf))"
   ]
  },
  {
   "cell_type": "code",
   "execution_count": 9,
   "metadata": {},
   "outputs": [
    {
     "name": "stdout",
     "output_type": "stream",
     "text": [
      "Executing get_private_key:\n",
      " az keyvault secret show --vault-name=kubeastus2rpi --name=idrsa \n"
     ]
    }
   ],
   "source": [
    "#Pull the private. \n",
    "privatekey=json.loads(ku.bash_command('get_private_key',cf))"
   ]
  },
  {
   "cell_type": "code",
   "execution_count": 11,
   "metadata": {
    "collapsed": true
   },
   "outputs": [],
   "source": [
    "#Write out the file\n",
    "with open(\"/home/jovyan/.ssh/id_rsa\", \"w\") as text_file:\n",
    "    text_file.write(privatekey['value'])"
   ]
  },
  {
   "cell_type": "code",
   "execution_count": 12,
   "metadata": {
    "collapsed": true
   },
   "outputs": [],
   "source": [
    "#Write out the file\n",
    "with open(\"/home/jovyan/.ssh/id_rsa.pub\", \"w\") as text_file:\n",
    "    text_file.write(publickey['value'])"
   ]
  },
  {
   "cell_type": "markdown",
   "metadata": {},
   "source": [
    "#### That is it! You now have your own Kubernetes cluster that is ready to go. "
   ]
  }
 ],
 "metadata": {
  "anaconda-cloud": {},
  "kernelspec": {
   "display_name": "Python 3",
   "language": "python",
   "name": "python3"
  },
  "language_info": {
   "codemirror_mode": {
    "name": "ipython",
    "version": 3
   },
   "file_extension": ".py",
   "mimetype": "text/x-python",
   "name": "python",
   "nbconvert_exporter": "python",
   "pygments_lexer": "ipython3",
   "version": "3.6.2"
  }
 },
 "nbformat": 4,
 "nbformat_minor": 2
}
