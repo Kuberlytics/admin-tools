{
 "cells": [
  {
   "cell_type": "code",
   "execution_count": null,
   "metadata": {},
   "outputs": [],
   "source": [
    "#This will import some required libraries.\n",
    "import sys \n",
    "import ruamel.yaml\n",
    "import os.path\n",
    "import collections \n",
    "#This is your configuration file. \n",
    "kube_yaml='../../config/kubernetes.yaml'\n",
    "with open(kube_yaml, 'r') as yaml:\n",
    "    cf=ruamel.yaml.round_trip_load(yaml, preserve_quotes=True)\n",
    "#This will allow us to import some useful utilities. \n",
    "if cf['general']['docker']:\n",
    "    cf['general']['path']=cf['general']['docker_path']\n",
    "else:\n",
    "    cf['general']['path']=cf['general']['local_path']\n",
    "\n",
    "sys.path.append(cf['general']['path']+\"/kuberutils\")   \n",
    "import kuberutils as ku\n",
    "#This just creates some additional varaibles. \n",
    "cf_k=ku.kubernetes_commands(cf)\n",
    "cf_g=ku.gcloud_commands(cf)\n",
    "#print(ruamel.yaml.dump(cf, sys.stdout, Dumper=ruamel.yaml.RoundTripDumper))"
   ]
  },
  {
   "cell_type": "code",
   "execution_count": null,
   "metadata": {
    "collapsed": true
   },
   "outputs": [],
   "source": [
    "!kubectl create -f airflow.all.yaml\n"
   ]
  },
  {
   "cell_type": "code",
   "execution_count": null,
   "metadata": {},
   "outputs": [],
   "source": [
    "print(ku.bash_command(\"kubectl get pods --all-namespaces\"))"
   ]
  },
  {
   "cell_type": "code",
   "execution_count": null,
   "metadata": {},
   "outputs": [],
   "source": [
    "print(ku.bash_command(\"kubectl get svc --all-namespaces\"))"
   ]
  },
  {
   "cell_type": "code",
   "execution_count": null,
   "metadata": {},
   "outputs": [],
   "source": [
    "\n",
    "print(ku.bash_command(\"kubectl --namespace=default get svc web\"))\n"
   ]
  },
  {
   "cell_type": "code",
   "execution_count": null,
   "metadata": {
    "collapsed": true
   },
   "outputs": [],
   "source": []
  }
 ],
 "metadata": {
  "kernelspec": {
   "display_name": "Python [Root]",
   "language": "python",
   "name": "Python [Root]"
  },
  "language_info": {
   "codemirror_mode": {
    "name": "ipython",
    "version": 3
   },
   "file_extension": ".py",
   "mimetype": "text/x-python",
   "name": "python",
   "nbconvert_exporter": "python",
   "pygments_lexer": "ipython3",
   "version": "3.5.2"
  }
 },
 "nbformat": 4,
 "nbformat_minor": 2
}
