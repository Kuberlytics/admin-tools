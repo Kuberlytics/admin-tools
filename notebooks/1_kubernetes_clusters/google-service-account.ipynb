{
 "cells": [
  {
   "cell_type": "markdown",
   "metadata": {},
   "source": [
    "## Google Services Account\n",
    "\n",
    "These are some extra steps for service account.  Eventually want to get this working. \n",
    "\n",
    "\n"
   ]
  },
  {
   "cell_type": "code",
   "execution_count": null,
   "metadata": {},
   "outputs": [],
   "source": [
    "#This will import some required libraries.\n",
    "import sys \n",
    "import ruamel.yaml\n",
    "import os.path\n",
    "import collections \n",
    "#This is your configuration file. \n",
    "kube_yaml='../../config/kubernetes.yaml'\n",
    "with open(kube_yaml, 'r') as yaml:\n",
    "    cf=ruamel.yaml.round_trip_load(yaml, preserve_quotes=True)\n",
    "#This will allow us to import some useful utilities. \n",
    "if cf['general']['docker']:\n",
    "    cf['general']['path']=cf['general']['docker_path']\n",
    "else:\n",
    "    cf['general']['path']=cf['general']['local_path']\n",
    "\n",
    "sys.path.append(cf['general']['path']+\"/kuberutils\")   \n",
    "import kuberutils as ku\n",
    "#This just creates some additional varaibles. \n",
    "cf_k=ku.kubernetes_commands(cf)\n",
    "cf_g=ku.gcloud_commands(cf)\n",
    "#print(ruamel.yaml.dump(cf, sys.stdout, Dumper=ruamel.yaml.RoundTripDumper))"
   ]
  },
  {
   "cell_type": "code",
   "execution_count": null,
   "metadata": {},
   "outputs": [],
   "source": [
    "#This will retreive common commands\n",
    "cf_g=ku.gcloud_commands(cf)\n",
    "#ruamel.yaml.dump(cf_g, sys.stdout, Dumper=ruamel.yaml.RoundTripDumper)\n",
    "print(ruamel.yaml.dump(cf_g, sys.stdout, Dumper=ruamel.yaml.RoundTripDumper))"
   ]
  },
  {
   "cell_type": "markdown",
   "metadata": {},
   "source": [
    "### Web Login\n",
    "\n",
    "In order to use the web login, you have to open a terminal session.  Click on the `Jupyter` icon on the top left of the notebook and then click `new`->`terminal`.\n",
    "\n",
    "Once in the terminal, issue the following command to login to your gmail account. It will provide you with a code you will then enter into the container. \n",
    "\n",
    "```\n",
    "gcloud init\n",
    "```\n"
   ]
  },
  {
   "cell_type": "markdown",
   "metadata": {},
   "source": [
    "### Service Account Login\n",
    "This is the easier way to manage login programatically.  Please be very careful about sharing this file and DON'T commit it!\n",
    "\n",
    "Follow (this link)[https://cloud.google.com/compute/docs/access/create-enable-service-accounts-for-instances#createanewserviceaccount] to setup your service account. \n",
    "\n",
    "In you configuration file, set the name of your file here.  \n",
    "`authorization_file: auth.json`\n",
    "\n",
    "Then place the file in the `/config/gcloud`  directory.\n",
    "\n",
    "https://cloud.google.com/iam/docs/granting-roles-to-service-accounts\n",
    "gcloud iam service-accounts get-iam-policy \\\n",
    "kuberlytics@kuberlytics.iam.gserviceaccount.com \\\n",
    "--format json > policy.json"
   ]
  },
  {
   "cell_type": "code",
   "execution_count": null,
   "metadata": {},
   "outputs": [],
   "source": [
    "ku.gcloud_command(cf_g['create_service_account'],cf)"
   ]
  },
  {
   "cell_type": "code",
   "execution_count": null,
   "metadata": {},
   "outputs": [],
   "source": [
    "ku.gcloud_command(cf_g['create_key'],cf)"
   ]
  },
  {
   "cell_type": "code",
   "execution_count": null,
   "metadata": {},
   "outputs": [],
   "source": [
    "!gcloud projects add-iam-policy-binding kuberlytics --member serviceAccount:kuberlytics@kuberlytics-2017.iam.gserviceaccount.com --role roles/editor"
   ]
  },
  {
   "cell_type": "code",
   "execution_count": null,
   "metadata": {
    "collapsed": true
   },
   "outputs": [],
   "source": []
  },
  {
   "cell_type": "code",
   "execution_count": null,
   "metadata": {
    "collapsed": true
   },
   "outputs": [],
   "source": [
    "gcloud compute instances set-service-account example-instance \\\n",
    "     --service-account my-sa-123@my-project-123.iam.gserviceaccount.com \\\n",
    "     --scopes compute-rw,storage-ro"
   ]
  },
  {
   "cell_type": "code",
   "execution_count": null,
   "metadata": {},
   "outputs": [],
   "source": [
    "ku.gcloud_command(cf_g['get_policy'],cf)"
   ]
  },
  {
   "cell_type": "code",
   "execution_count": null,
   "metadata": {
    "collapsed": true
   },
   "outputs": [],
   "source": [
    "gcloud compute instances set-service-account example-instance \\\n",
    "     --service-account my-sa-123@my-project-123.iam.gserviceaccount.com \\\n",
    "     --scopes compute-rw,storage-ro"
   ]
  },
  {
   "cell_type": "markdown",
   "metadata": {},
   "source": [
    "### Go to the services account page and then switch to: DwD: G Suite Domain-wide Delegation is enabled.\n",
    "\n",
    "### Update the Policy to Bind to Service Account.  \n",
    "https://cloud.google.com/sdk/gcloud/reference/beta/iam/service-accounts/add-iam-policy-binding \n",
    "\n",
    "So right now you have to manually update this. TBD have code that automates this update.  \n",
    "\n",
    "\n",
    "```\n",
    "{\n",
    "  \"bindings\": [\n",
    "    {\n",
    "      \"members\": [\n",
    "        \"user:bob@gmail.com\"\n",
    "      ],\n",
    "      \"role\": \"roles/iam.serviceAccountActor\"\n",
    "    },\n",
    "    {\n",
    "      \"members\": [\n",
    "        \"user:bob@gmail.com\"\n",
    "      ],\n",
    "      \"role\": \"roles/owner\"\n",
    "    }\n",
    "  ],\n",
    "  \"etag\": \"Bwdfdfdsssdf=\"\n",
    "}\n",
    "```\n",
    "\n",
    "Note for future: Looks like this is in beta.  In future might be able to do via command line.  \n",
    "```\n",
    "gcloud beta iam service-accounts add-iam-policy-binding \\\n",
    "      my-iam-account@somedomain.com \\\n",
    "      --member='user:test-user@gmail.com' --role='roles/editor'\n",
    "\n",
    "gcloud iam service-accounts add-iam-policy-binding\n",
    "\n",
    "```"
   ]
  },
  {
   "cell_type": "code",
   "execution_count": null,
   "metadata": {},
   "outputs": [],
   "source": [
    "#Run this once you have updated the policy.json\n",
    "ku.gcloud_command(cf_g['set_policy'],cf)"
   ]
  },
  {
   "cell_type": "code",
   "execution_count": null,
   "metadata": {
    "collapsed": true
   },
   "outputs": [],
   "source": [
    "#Add a test to get the policy again and verify the binding. "
   ]
  },
  {
   "cell_type": "code",
   "execution_count": null,
   "metadata": {},
   "outputs": [],
   "source": [
    "#This just tests the service account login.\n",
    "ku.gcloud_command(cf_g['login'],cf)"
   ]
  }
 ],
 "metadata": {
  "kernelspec": {
   "display_name": "Python [Root]",
   "language": "python",
   "name": "Python [Root]"
  },
  "language_info": {
   "codemirror_mode": {
    "name": "ipython",
    "version": 3
   },
   "file_extension": ".py",
   "mimetype": "text/x-python",
   "name": "python",
   "nbconvert_exporter": "python",
   "pygments_lexer": "ipython3",
   "version": "3.5.2"
  }
 },
 "nbformat": 4,
 "nbformat_minor": 2
}
